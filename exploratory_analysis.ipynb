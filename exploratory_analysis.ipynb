{
 "cells": [
  {
   "cell_type": "markdown",
   "metadata": {},
   "source": [
    "# Chronic illness: symptoms, treatments and triggers"
   ]
  },
  {
   "cell_type": "markdown",
   "metadata": {},
   "source": [
    "# Introduction\n",
    "**This project is part of Udacity's Data Analyst Nanodegree Programm. <br> The dataset was aquired from kaggle.com. The website Flaredown tracks chronic illness symptoms and provided the data I use in this project. And has more than 3 million rows that would not be usable using non programmatic approaches. Sources are marked with (n) and linked under Sources at the end of the notebook.**"
   ]
  },
  {
   "cell_type": "markdown",
   "metadata": {},
   "source": [
    "#### About the data (from Flaredown)\n",
    "\n",
    "Instead of coupling symptoms to a particular illness, Flaredown asks users to create their unique set of conditions, symptoms and treatments (“trackables”). They can then “check-in” each day and record the severity of symptoms and conditions, the doses of treatments, and “tag” the day with any unexpected environmental factors.\n",
    "\n",
    "**User**: includes an ID, age, sex, and country.\n",
    "\n",
    "**Condition**: an illness or diagnosis, for example Rheumatoid Arthritis, rated on a scale of 0 (not active) to 4 (extremely active).\n",
    "\n",
    "**Symptom**: self-explanatory, also rated on a 0–4 scale.\n",
    "\n",
    "**Treatment**: anything a patient uses to improve their symptoms, along with an optional dose, which is a string that describes how much they took during the day. For instance “3 x 5mg”.\n",
    "\n",
    "**Tag**: a string representing an environmental factor that does not occur every day, for example “ate dairy” or “rainy day”.\n",
    "\n",
    "**Food**: food items were seeded from the publicly-available USDA food database. Users have also added many food items manually.\n",
    "\n",
    "**Weather**: weather is pulled automatically for the user's postal code from the Dark Sky API. Weather parameters include a description, precipitation intensity, humidity, pressure, and min/max temperatures for the day.\n",
    "\n",
    "If users do not see a symptom, treatment, tag, or food in our database (for instance “Abdominal Pain” as a symptom) they may add it by simply naming it. This means that the data requires some cleaning, but it is patient-centered and indicates their primary concerns."
   ]
  },
  {
   "cell_type": "markdown",
   "metadata": {},
   "source": [
    "### Table of Contents\n",
    "\n",
    "- [Gather](#gather)\n",
    "- [Assess](#assess)\n",
    "- [Clean](#clean)\n",
    "- [Explore](#explore)\n",
    "    - [Univariate](#uni)\n",
    "    - [Bi- and Multivariate](#bi)\n",
    "- [Sources](#sources)"
   ]
  },
  {
   "cell_type": "code",
   "execution_count": 1,
   "metadata": {},
   "outputs": [],
   "source": [
    "import requests\n",
    "import os\n",
    "import json\n",
    "import pandas as pd\n",
    "import numpy as np\n",
    "import matplotlib.pyplot as plt\n",
    "import seaborn as sns\n",
    "from wordcloud import WordCloud\n",
    "\n",
    "% matplotlib inline"
   ]
  },
  {
   "cell_type": "markdown",
   "metadata": {},
   "source": [
    "<a id='gather'></a>\n",
    "# Gather"
   ]
  },
  {
   "cell_type": "markdown",
   "metadata": {},
   "source": [
    "This dataset was downloaded from **kaggle.com** and provided by **Flaredown**. Flaredown is an app that tracks symptoms, treatments, environmental triggers on a daily basis for each patient. This is a large dataset that is a perfect fit for this project. The link to the dataset can be found under Sources at the end of the notebook."
   ]
  },
  {
   "cell_type": "code",
   "execution_count": 2,
   "metadata": {
    "scrolled": true
   },
   "outputs": [
    {
     "name": "stderr",
     "output_type": "stream",
     "text": [
      "C:\\Users\\march\\Anaconda\\lib\\site-packages\\IPython\\core\\interactiveshell.py:2785: DtypeWarning: Columns (5) have mixed types. Specify dtype option on import or set low_memory=False.\n",
      "  interactivity=interactivity, compiler=compiler, result=result)\n"
     ]
    }
   ],
   "source": [
    "#Create dataframe from .csv file\n",
    "df = pd.read_csv('fd-export.csv')"
   ]
  },
  {
   "cell_type": "markdown",
   "metadata": {},
   "source": [
    "<a id='assess'></a>\n",
    "# Assess"
   ]
  },
  {
   "cell_type": "code",
   "execution_count": 3,
   "metadata": {
    "scrolled": false
   },
   "outputs": [
    {
     "data": {
      "text/html": [
       "<div>\n",
       "<style scoped>\n",
       "    .dataframe tbody tr th:only-of-type {\n",
       "        vertical-align: middle;\n",
       "    }\n",
       "\n",
       "    .dataframe tbody tr th {\n",
       "        vertical-align: top;\n",
       "    }\n",
       "\n",
       "    .dataframe thead th {\n",
       "        text-align: right;\n",
       "    }\n",
       "</style>\n",
       "<table border=\"1\" class=\"dataframe\">\n",
       "  <thead>\n",
       "    <tr style=\"text-align: right;\">\n",
       "      <th></th>\n",
       "      <th>user_id</th>\n",
       "      <th>age</th>\n",
       "      <th>sex</th>\n",
       "      <th>country</th>\n",
       "      <th>checkin_date</th>\n",
       "      <th>trackable_id</th>\n",
       "      <th>trackable_type</th>\n",
       "      <th>trackable_name</th>\n",
       "      <th>trackable_value</th>\n",
       "    </tr>\n",
       "  </thead>\n",
       "  <tbody>\n",
       "    <tr>\n",
       "      <th>0</th>\n",
       "      <td>QEVuQwEABlEzkh7fsBBjEe26RyIVcg==</td>\n",
       "      <td>NaN</td>\n",
       "      <td>NaN</td>\n",
       "      <td>NaN</td>\n",
       "      <td>2015-11-26</td>\n",
       "      <td>1069</td>\n",
       "      <td>Condition</td>\n",
       "      <td>Ulcerative colitis</td>\n",
       "      <td>0</td>\n",
       "    </tr>\n",
       "    <tr>\n",
       "      <th>1</th>\n",
       "      <td>QEVuQwEAWRNGnuTRqXG2996KSkTIEw==</td>\n",
       "      <td>31.0</td>\n",
       "      <td>male</td>\n",
       "      <td>US</td>\n",
       "      <td>2015-11-26</td>\n",
       "      <td>1069</td>\n",
       "      <td>Condition</td>\n",
       "      <td>Ulcerative colitis</td>\n",
       "      <td>0</td>\n",
       "    </tr>\n",
       "    <tr>\n",
       "      <th>2</th>\n",
       "      <td>QEVuQwEA+WkNxtp/qkHvN2YmTBBDqg==</td>\n",
       "      <td>1.0</td>\n",
       "      <td>female</td>\n",
       "      <td>CA</td>\n",
       "      <td>2017-04-28</td>\n",
       "      <td>3168</td>\n",
       "      <td>Condition</td>\n",
       "      <td>pain in left upper arm felt like i was getting...</td>\n",
       "      <td>4</td>\n",
       "    </tr>\n",
       "    <tr>\n",
       "      <th>3</th>\n",
       "      <td>QEVuQwEA+WkNxtp/qkHvN2YmTBBDqg==</td>\n",
       "      <td>1.0</td>\n",
       "      <td>female</td>\n",
       "      <td>CA</td>\n",
       "      <td>2017-04-28</td>\n",
       "      <td>3169</td>\n",
       "      <td>Condition</td>\n",
       "      <td>hip pain when gettin up</td>\n",
       "      <td>3</td>\n",
       "    </tr>\n",
       "    <tr>\n",
       "      <th>4</th>\n",
       "      <td>QEVuQwEA+WkNxtp/qkHvN2YmTBBDqg==</td>\n",
       "      <td>1.0</td>\n",
       "      <td>female</td>\n",
       "      <td>CA</td>\n",
       "      <td>2017-04-28</td>\n",
       "      <td>3170</td>\n",
       "      <td>Condition</td>\n",
       "      <td>pain in hand joints</td>\n",
       "      <td>4</td>\n",
       "    </tr>\n",
       "  </tbody>\n",
       "</table>\n",
       "</div>"
      ],
      "text/plain": [
       "                            user_id   age     sex country checkin_date  \\\n",
       "0  QEVuQwEABlEzkh7fsBBjEe26RyIVcg==   NaN     NaN     NaN   2015-11-26   \n",
       "1  QEVuQwEAWRNGnuTRqXG2996KSkTIEw==  31.0    male      US   2015-11-26   \n",
       "2  QEVuQwEA+WkNxtp/qkHvN2YmTBBDqg==   1.0  female      CA   2017-04-28   \n",
       "3  QEVuQwEA+WkNxtp/qkHvN2YmTBBDqg==   1.0  female      CA   2017-04-28   \n",
       "4  QEVuQwEA+WkNxtp/qkHvN2YmTBBDqg==   1.0  female      CA   2017-04-28   \n",
       "\n",
       "  trackable_id trackable_type  \\\n",
       "0         1069      Condition   \n",
       "1         1069      Condition   \n",
       "2         3168      Condition   \n",
       "3         3169      Condition   \n",
       "4         3170      Condition   \n",
       "\n",
       "                                      trackable_name trackable_value  \n",
       "0                                 Ulcerative colitis               0  \n",
       "1                                 Ulcerative colitis               0  \n",
       "2  pain in left upper arm felt like i was getting...               4  \n",
       "3                            hip pain when gettin up               3  \n",
       "4                                pain in hand joints               4  "
      ]
     },
     "execution_count": 3,
     "metadata": {},
     "output_type": "execute_result"
    }
   ],
   "source": [
    "df.head()"
   ]
  },
  {
   "cell_type": "code",
   "execution_count": 4,
   "metadata": {
    "scrolled": true
   },
   "outputs": [
    {
     "data": {
      "text/plain": [
       "(3487633, 9)"
      ]
     },
     "execution_count": 4,
     "metadata": {},
     "output_type": "execute_result"
    }
   ],
   "source": [
    "df.shape"
   ]
  },
  {
   "cell_type": "code",
   "execution_count": 5,
   "metadata": {
    "scrolled": true
   },
   "outputs": [
    {
     "data": {
      "text/plain": [
       "QEVuQwEAlNMIH8RXhjZvx6HzoW8iXQ==    40858\n",
       "QEVuQwEAPEoXGFKArZ9POVOtEufMcA==    31124\n",
       "QEVuQwEAVaa7SCCq9wZKg//dpv5Xyw==    29187\n",
       "QEVuQwEA+ncvJRvfo6PtArpLX1N8xA==    23343\n",
       "QEVuQwEAiCzSfGQR0NefHujW9fVI/A==    22677\n",
       "QEVuQwEAgu4h6TUSURerctVPXKDehA==    18864\n",
       "QEVuQwEAm3m1nkaROXRyPkH4ryfv2Q==    17947\n",
       "QEVuQwEAbhTp/7opHf8bz+aYaPb9qQ==    17668\n",
       "QEVuQwEAizd84bshNIHwS6anVQXKjQ==    17139\n",
       "QEVuQwEATILrJKGLQqxekeTVDtjrGw==    16700\n",
       "QEVuQwEA/lxYwRG3fa1UMAl5GwTn0g==    15437\n",
       "QEVuQwEAaW1v3n+J3kqt0E8dlBup+g==    14420\n",
       "QEVuQwEAeRrt2mYktI3Fokcu7zW5UA==    12879\n",
       "QEVuQwEAhBn9PfvMceuuky/L/gXfNw==    12292\n",
       "QEVuQwEAmS9U3RAfpAoxDeyaHuHfNQ==    11503\n",
       "QEVuQwEAu8LWk782hBZqsGTbLIbeAQ==    11360\n",
       "QEVuQwEAdJD0HMVdiv9CM9bdkilPMg==    11096\n",
       "QEVuQwEAvP5LbPUDEotVGUBWVXPcnw==    10411\n",
       "QEVuQwEAPH7K/YqW6kqWOoH6jX2g7Q==    10229\n",
       "QEVuQwEAuYwnxdBUT/jPkbfRDRMLag==     9372\n",
       "QEVuQwEAU+4zRMGrZQae1TQJOJs6Jw==     9339\n",
       "QEVuQwEAzZZJytHyyKA2iqJCbNIhLg==     9238\n",
       "QEVuQwEAgjSid5t5RhpUyf83z5+3vw==     9231\n",
       "QEVuQwEArbZ+iIlSEEE6tlJ31Z0tzg==     8768\n",
       "QEVuQwEA7tUb37v0MUSih8m+alXLjA==     8553\n",
       "QEVuQwEAbiDrvIdbHDlyh4E62LtqHg==     8550\n",
       "QEVuQwEAk+3+mbT+WEbBhWI0P/Ua2Q==     8402\n",
       "QEVuQwEAKUKlUDwuZD8VRK/MUBOUYw==     8317\n",
       "QEVuQwEA1cn/UpqfJ/NHZWJgvNlc5A==     7963\n",
       "QEVuQwEA7sZ1cXBLXxPPmmzns/huYw==     7958\n",
       "                                    ...  \n",
       "QEVuQwEAsAR0av4ORvOpiY/WH7nI9w==        1\n",
       "QEVuQwEA2Dquaug6dSoqlnkDOrq/MA==        1\n",
       "QEVuQwEAUYslLkzDbOVOIq6JfZVdzQ==        1\n",
       "QEVuQwEAR00Jdn7/NDp0Q2xj8uNK2A==        1\n",
       "QEVuQwEAUI9SSsyn8Zx0A6xC6OTkwg==        1\n",
       "QEVuQwEAIC4F77Sk7hciC1fRSGytZA==        1\n",
       "QEVuQwEAFrZCV93CCbRI3fdDgCKl3Q==        1\n",
       "QEVuQwEAkPg+ZxKnFj16o1fYO5EA/A==        1\n",
       "QEVuQwEAkkld8P0t3AhlkOicY7MJvw==        1\n",
       "QEVuQwEApTKcoK95FvUM1tT/mxAxbw==        1\n",
       "QEVuQwEAkF8fCmf9KT5YpVrSupb3KQ==        1\n",
       "QEVuQwEA6lQdLWbXkrpbnMwaXc9v4A==        1\n",
       "QEVuQwEA4VB/nThf2ttqCySLBlNATw==        1\n",
       "QEVuQwEA6px00xUL3mOmR0/mVQgRYA==        1\n",
       "QEVuQwEAHms+S5cNlHv6hzjvkQSJEA==        1\n",
       "QEVuQwEARHVj81YlzqgMimI2Rh9+Ww==        1\n",
       "QEVuQwEAys7r0uR8eaaKo0eC6KSGZg==        1\n",
       "QEVuQwEAof4KKD7tcP0Zafg+bfsPoA==        1\n",
       "QEVuQwEAMoJxJpbexhVlkwvHSLiOuw==        1\n",
       "QEVuQwEAMT1CAc0rMtmwz37xSEJohw==        1\n",
       "QEVuQwEATpBz+sTBxNu4p+ULk3jYXA==        1\n",
       "QEVuQwEAUIPDKmoKZ8aKlLyq//Hdxg==        1\n",
       "QEVuQwEAczJvmYtPjl8tttMVTQGC9A==        1\n",
       "QEVuQwEAd6avcjFEQicRwOEKtXHgIQ==        1\n",
       "QEVuQwEA2tJ+rF8LHchBca+lLIRO4A==        1\n",
       "QEVuQwEA5ck3RqxlpBC/VSGRgXIXdA==        1\n",
       "QEVuQwEAPFcuOg+KWOFzsiIBA2e5ig==        1\n",
       "QEVuQwEANlqfJcCbqycBsO9xMkU8Ow==        1\n",
       "QEVuQwEAoaYA8i02U9JHHNu3NDcQ/A==        1\n",
       "QEVuQwEAbiFssp0NZBXk2Djkb0rgxg==        1\n",
       "Name: user_id, Length: 22071, dtype: int64"
      ]
     },
     "execution_count": 5,
     "metadata": {},
     "output_type": "execute_result"
    }
   ],
   "source": [
    "df['user_id'].value_counts()"
   ]
  },
  {
   "cell_type": "code",
   "execution_count": 6,
   "metadata": {
    "scrolled": false
   },
   "outputs": [
    {
     "name": "stdout",
     "output_type": "stream",
     "text": [
      "<class 'pandas.core.frame.DataFrame'>\n",
      "RangeIndex: 3487633 entries, 0 to 3487632\n",
      "Data columns (total 9 columns):\n",
      "user_id            object\n",
      "age                float64\n",
      "sex                object\n",
      "country            object\n",
      "checkin_date       object\n",
      "trackable_id       object\n",
      "trackable_type     object\n",
      "trackable_name     object\n",
      "trackable_value    object\n",
      "dtypes: float64(1), object(8)\n",
      "memory usage: 239.5+ MB\n"
     ]
    }
   ],
   "source": [
    "#general information about the dataset: datatype, entries\n",
    "df.info()"
   ]
  },
  {
   "cell_type": "code",
   "execution_count": 7,
   "metadata": {},
   "outputs": [
    {
     "data": {
      "text/plain": [
       "user_id             22071\n",
       "age                    97\n",
       "sex                     4\n",
       "country               141\n",
       "checkin_date         1164\n",
       "trackable_id       120820\n",
       "trackable_type          7\n",
       "trackable_name      62681\n",
       "trackable_value      8627\n",
       "dtype: int64"
      ]
     },
     "execution_count": 7,
     "metadata": {},
     "output_type": "execute_result"
    }
   ],
   "source": [
    "#number of unique entries for each parameter\n",
    "df.nunique()"
   ]
  },
  {
   "cell_type": "code",
   "execution_count": 8,
   "metadata": {
    "scrolled": true
   },
   "outputs": [
    {
     "data": {
      "text/plain": [
       "US    2163066\n",
       "GB     494058\n",
       "CA     245519\n",
       "AU     217744\n",
       "NZ      38210\n",
       "NL      37168\n",
       "DE      36118\n",
       "SE      25059\n",
       "FR      20967\n",
       "NO      17476\n",
       "BE      17263\n",
       "CH      10995\n",
       "ZA      10268\n",
       "IE       7648\n",
       "FI       7215\n",
       "AF       6736\n",
       "UY       6371\n",
       "AT       5737\n",
       "UM       5361\n",
       "ES       4794\n",
       "SG       4281\n",
       "IS       3730\n",
       "BR       2976\n",
       "DK       2725\n",
       "DZ       2264\n",
       "JP       2251\n",
       "HK       2241\n",
       "JE       1908\n",
       "PK       1889\n",
       "PE       1861\n",
       "       ...   \n",
       "WS         12\n",
       "MO         12\n",
       "BN         12\n",
       "PF         12\n",
       "BF         11\n",
       "MT         10\n",
       "BS         10\n",
       "LV         10\n",
       "MG          9\n",
       "ME          7\n",
       "QA          6\n",
       "TZ          6\n",
       "BT          5\n",
       "LK          5\n",
       "CI          5\n",
       "SO          4\n",
       "MK          4\n",
       "GH          4\n",
       "KZ          3\n",
       "UZ          3\n",
       "ZM          2\n",
       "ET          2\n",
       "VU          2\n",
       "VN          2\n",
       "LY          2\n",
       "SD          2\n",
       "UG          2\n",
       "IQ          1\n",
       "MV          1\n",
       "LR          1\n",
       "Name: country, Length: 141, dtype: int64"
      ]
     },
     "execution_count": 8,
     "metadata": {},
     "output_type": "execute_result"
    }
   ],
   "source": [
    "df['country'].value_counts()"
   ]
  },
  {
   "cell_type": "code",
   "execution_count": 9,
   "metadata": {},
   "outputs": [
    {
     "data": {
      "text/plain": [
       "2    124228\n",
       "1    121074\n",
       "0    112098\n",
       "3     89921\n",
       "4     58140\n",
       "Name: trackable_value, dtype: int64"
      ]
     },
     "execution_count": 9,
     "metadata": {},
     "output_type": "execute_result"
    }
   ],
   "source": [
    "df[df.trackable_type == 'Condition'].trackable_value.value_counts()"
   ]
  },
  {
   "cell_type": "code",
   "execution_count": 10,
   "metadata": {
    "scrolled": true
   },
   "outputs": [
    {
     "data": {
      "text/plain": [
       "0                                     577863\n",
       "1                                     511496\n",
       "2                                     482058\n",
       "3                                     322882\n",
       "4                                     195655\n",
       "partly-cloudy-day                      35854\n",
       "rain                                   23958\n",
       "0.0                                    23854\n",
       "partly-cloudy-night                    17864\n",
       "clear-day                              13468\n",
       "0.0001                                 11095\n",
       "1017.0                                  6665\n",
       "1016.0                                  6624\n",
       "0.0002                                  6272\n",
       "1015.0                                  6143\n",
       "72.0                                    6079\n",
       "70.0                                    6062\n",
       "73.0                                    6040\n",
       "69.0                                    6029\n",
       "1014.0                                  6006\n",
       "1018.0                                  5998\n",
       "74.0                                    5905\n",
       "75.0                                    5821\n",
       "68.0                                    5815\n",
       "71.0                                    5781\n",
       "67.0                                    5629\n",
       "76.0                                    5590\n",
       "65.0                                    5578\n",
       "77.0                                    5555\n",
       "66.0                                    5543\n",
       "                                       ...  \n",
       "Feet,  knees                               1\n",
       "2 x vomited all                            1\n",
       "chicken cordon bleu                        1\n",
       "gratitude                                  1\n",
       "3 caps x 2                                 1\n",
       "105%                                       1\n",
       "0.1895                                     1\n",
       "200 oz                                     1\n",
       "desitin                                    1\n",
       "2 tabs chewed for allergic episode         1\n",
       "1483mg                                     1\n",
       "81g                                        1\n",
       "2 ampules QID                              1\n",
       "10/200 mg × 3                              1\n",
       "@510p                                      1\n",
       "1 pill evening                             1\n",
       "1/4 am                                     1\n",
       "1/3 capful                                 1\n",
       "Nightly                                    1\n",
       "wooden tool                                1\n",
       "12/7                                       1\n",
       "both knee braces                           1\n",
       "16 drops                                   1\n",
       "300 mg                                     1\n",
       "0.5376                                     1\n",
       "2 pill x 2                                 1\n",
       "2 x 0,4 hours                              1\n",
       "2x 3x600 mg                                1\n",
       "single dose                                1\n",
       "2 deep breaths of smelling herbs           1\n",
       "Name: trackable_value, Length: 8627, dtype: int64"
      ]
     },
     "execution_count": 10,
     "metadata": {},
     "output_type": "execute_result"
    }
   ],
   "source": [
    "df.trackable_value.value_counts()"
   ]
  },
  {
   "cell_type": "code",
   "execution_count": 11,
   "metadata": {
    "scrolled": true
   },
   "outputs": [
    {
     "data": {
      "text/plain": [
       " 26.0        149984\n",
       " 25.0        124471\n",
       " 22.0        123222\n",
       " 33.0        123017\n",
       " 24.0        120243\n",
       " 37.0        118549\n",
       " 34.0        118293\n",
       " 27.0        114471\n",
       " 20.0        109667\n",
       " 32.0        106673\n",
       " 31.0        104949\n",
       " 46.0         99872\n",
       " 19.0         98737\n",
       " 28.0         97887\n",
       " 29.0         96967\n",
       " 30.0         95499\n",
       " 35.0         91637\n",
       " 39.0         87857\n",
       " 23.0         82596\n",
       " 40.0         72603\n",
       " 38.0         71053\n",
       " 21.0         71001\n",
       " 36.0         68611\n",
       " 43.0         63030\n",
       " 18.0         61335\n",
       " 41.0         61238\n",
       " 44.0         59752\n",
       " 47.0         56841\n",
       " 55.0         47411\n",
       " 48.0         47157\n",
       "              ...  \n",
       " 2017.0         347\n",
       " 8.0            229\n",
       " 5.0            194\n",
       " 6.0            190\n",
       " 75.0           147\n",
       " 74.0           129\n",
       " 7.0            128\n",
       " 77.0           113\n",
       " 71.0           107\n",
       " 79.0            61\n",
       " 72.0            56\n",
       " 98.0            41\n",
       "-1.0             32\n",
       " 89.0            32\n",
       " 784.0           28\n",
       " 73.0            23\n",
       " 1941.0          21\n",
       " 218.0           17\n",
       " 828.0           17\n",
       "-31.0            17\n",
       " 88.0            16\n",
       "-45.0            12\n",
       " 117.0            9\n",
       " 78.0             4\n",
       "-196693.0         4\n",
       " 83.0             3\n",
       "-19964.0          3\n",
       " 76.0             2\n",
       "-34.0             1\n",
       " 359.0            1\n",
       "Name: age, Length: 97, dtype: int64"
      ]
     },
     "execution_count": 11,
     "metadata": {},
     "output_type": "execute_result"
    }
   ],
   "source": [
    "df['age'].value_counts()"
   ]
  },
  {
   "cell_type": "code",
   "execution_count": 12,
   "metadata": {
    "scrolled": true
   },
   "outputs": [
    {
     "data": {
      "text/html": [
       "<div>\n",
       "<style scoped>\n",
       "    .dataframe tbody tr th:only-of-type {\n",
       "        vertical-align: middle;\n",
       "    }\n",
       "\n",
       "    .dataframe tbody tr th {\n",
       "        vertical-align: top;\n",
       "    }\n",
       "\n",
       "    .dataframe thead th {\n",
       "        text-align: right;\n",
       "    }\n",
       "</style>\n",
       "<table border=\"1\" class=\"dataframe\">\n",
       "  <thead>\n",
       "    <tr style=\"text-align: right;\">\n",
       "      <th></th>\n",
       "      <th>user_id</th>\n",
       "      <th>age</th>\n",
       "      <th>sex</th>\n",
       "      <th>country</th>\n",
       "      <th>checkin_date</th>\n",
       "      <th>trackable_id</th>\n",
       "      <th>trackable_type</th>\n",
       "      <th>trackable_name</th>\n",
       "      <th>trackable_value</th>\n",
       "    </tr>\n",
       "  </thead>\n",
       "  <tbody>\n",
       "    <tr>\n",
       "      <th>26</th>\n",
       "      <td>QEVuQwEAO+R1md5HUn8+w1Qpbg7ogw==</td>\n",
       "      <td>NaN</td>\n",
       "      <td>NaN</td>\n",
       "      <td>NaN</td>\n",
       "      <td>2015-05-26</td>\n",
       "      <td>1</td>\n",
       "      <td>Tag</td>\n",
       "      <td>tired</td>\n",
       "      <td>NaN</td>\n",
       "    </tr>\n",
       "    <tr>\n",
       "      <th>27</th>\n",
       "      <td>QEVuQwEAO+R1md5HUn8+w1Qpbg7ogw==</td>\n",
       "      <td>NaN</td>\n",
       "      <td>NaN</td>\n",
       "      <td>NaN</td>\n",
       "      <td>2015-05-26</td>\n",
       "      <td>2</td>\n",
       "      <td>Tag</td>\n",
       "      <td>stressed</td>\n",
       "      <td>NaN</td>\n",
       "    </tr>\n",
       "    <tr>\n",
       "      <th>28</th>\n",
       "      <td>QEVuQwEAO+R1md5HUn8+w1Qpbg7ogw==</td>\n",
       "      <td>NaN</td>\n",
       "      <td>NaN</td>\n",
       "      <td>NaN</td>\n",
       "      <td>2015-05-26</td>\n",
       "      <td>3</td>\n",
       "      <td>Tag</td>\n",
       "      <td>feels</td>\n",
       "      <td>NaN</td>\n",
       "    </tr>\n",
       "    <tr>\n",
       "      <th>33</th>\n",
       "      <td>QEVuQwEAO+R1md5HUn8+w1Qpbg7ogw==</td>\n",
       "      <td>NaN</td>\n",
       "      <td>NaN</td>\n",
       "      <td>NaN</td>\n",
       "      <td>2015-06-14</td>\n",
       "      <td>13</td>\n",
       "      <td>Tag</td>\n",
       "      <td>good sleep</td>\n",
       "      <td>NaN</td>\n",
       "    </tr>\n",
       "    <tr>\n",
       "      <th>34</th>\n",
       "      <td>QEVuQwEAO+R1md5HUn8+w1Qpbg7ogw==</td>\n",
       "      <td>NaN</td>\n",
       "      <td>NaN</td>\n",
       "      <td>NaN</td>\n",
       "      <td>2015-06-14</td>\n",
       "      <td>14</td>\n",
       "      <td>Tag</td>\n",
       "      <td>haircut</td>\n",
       "      <td>NaN</td>\n",
       "    </tr>\n",
       "    <tr>\n",
       "      <th>35</th>\n",
       "      <td>QEVuQwEAO+R1md5HUn8+w1Qpbg7ogw==</td>\n",
       "      <td>NaN</td>\n",
       "      <td>NaN</td>\n",
       "      <td>NaN</td>\n",
       "      <td>2015-06-14</td>\n",
       "      <td>15</td>\n",
       "      <td>Tag</td>\n",
       "      <td>Derp</td>\n",
       "      <td>NaN</td>\n",
       "    </tr>\n",
       "    <tr>\n",
       "      <th>40</th>\n",
       "      <td>QEVuQwEAO+R1md5HUn8+w1Qpbg7ogw==</td>\n",
       "      <td>NaN</td>\n",
       "      <td>NaN</td>\n",
       "      <td>NaN</td>\n",
       "      <td>2015-06-11</td>\n",
       "      <td>1</td>\n",
       "      <td>Tag</td>\n",
       "      <td>tired</td>\n",
       "      <td>NaN</td>\n",
       "    </tr>\n",
       "    <tr>\n",
       "      <th>41</th>\n",
       "      <td>QEVuQwEAO+R1md5HUn8+w1Qpbg7ogw==</td>\n",
       "      <td>NaN</td>\n",
       "      <td>NaN</td>\n",
       "      <td>NaN</td>\n",
       "      <td>2015-06-11</td>\n",
       "      <td>10</td>\n",
       "      <td>Tag</td>\n",
       "      <td>ate breakfast</td>\n",
       "      <td>NaN</td>\n",
       "    </tr>\n",
       "    <tr>\n",
       "      <th>42</th>\n",
       "      <td>QEVuQwEAO+R1md5HUn8+w1Qpbg7ogw==</td>\n",
       "      <td>NaN</td>\n",
       "      <td>NaN</td>\n",
       "      <td>NaN</td>\n",
       "      <td>2015-06-11</td>\n",
       "      <td>4</td>\n",
       "      <td>Tag</td>\n",
       "      <td>Went to work</td>\n",
       "      <td>NaN</td>\n",
       "    </tr>\n",
       "    <tr>\n",
       "      <th>43</th>\n",
       "      <td>QEVuQwEAO+R1md5HUn8+w1Qpbg7ogw==</td>\n",
       "      <td>NaN</td>\n",
       "      <td>NaN</td>\n",
       "      <td>NaN</td>\n",
       "      <td>2015-06-11</td>\n",
       "      <td>11</td>\n",
       "      <td>Tag</td>\n",
       "      <td>Wrong about something</td>\n",
       "      <td>NaN</td>\n",
       "    </tr>\n",
       "    <tr>\n",
       "      <th>44</th>\n",
       "      <td>QEVuQwEAO+R1md5HUn8+w1Qpbg7ogw==</td>\n",
       "      <td>NaN</td>\n",
       "      <td>NaN</td>\n",
       "      <td>NaN</td>\n",
       "      <td>2015-06-11</td>\n",
       "      <td>12</td>\n",
       "      <td>Tag</td>\n",
       "      <td>Confronted a coworker</td>\n",
       "      <td>NaN</td>\n",
       "    </tr>\n",
       "    <tr>\n",
       "      <th>48</th>\n",
       "      <td>QEVuQwEAO+R1md5HUn8+w1Qpbg7ogw==</td>\n",
       "      <td>NaN</td>\n",
       "      <td>NaN</td>\n",
       "      <td>NaN</td>\n",
       "      <td>2015-06-10</td>\n",
       "      <td>1</td>\n",
       "      <td>Tag</td>\n",
       "      <td>tired</td>\n",
       "      <td>NaN</td>\n",
       "    </tr>\n",
       "    <tr>\n",
       "      <th>49</th>\n",
       "      <td>QEVuQwEAO+R1md5HUn8+w1Qpbg7ogw==</td>\n",
       "      <td>NaN</td>\n",
       "      <td>NaN</td>\n",
       "      <td>NaN</td>\n",
       "      <td>2015-06-10</td>\n",
       "      <td>2</td>\n",
       "      <td>Tag</td>\n",
       "      <td>stressed</td>\n",
       "      <td>NaN</td>\n",
       "    </tr>\n",
       "    <tr>\n",
       "      <th>50</th>\n",
       "      <td>QEVuQwEAO+R1md5HUn8+w1Qpbg7ogw==</td>\n",
       "      <td>NaN</td>\n",
       "      <td>NaN</td>\n",
       "      <td>NaN</td>\n",
       "      <td>2015-06-10</td>\n",
       "      <td>7</td>\n",
       "      <td>Tag</td>\n",
       "      <td>had sex</td>\n",
       "      <td>NaN</td>\n",
       "    </tr>\n",
       "    <tr>\n",
       "      <th>51</th>\n",
       "      <td>QEVuQwEAO+R1md5HUn8+w1Qpbg7ogw==</td>\n",
       "      <td>NaN</td>\n",
       "      <td>NaN</td>\n",
       "      <td>NaN</td>\n",
       "      <td>2015-06-10</td>\n",
       "      <td>8</td>\n",
       "      <td>Tag</td>\n",
       "      <td>doctor appointment</td>\n",
       "      <td>NaN</td>\n",
       "    </tr>\n",
       "    <tr>\n",
       "      <th>52</th>\n",
       "      <td>QEVuQwEAO+R1md5HUn8+w1Qpbg7ogw==</td>\n",
       "      <td>NaN</td>\n",
       "      <td>NaN</td>\n",
       "      <td>NaN</td>\n",
       "      <td>2015-06-10</td>\n",
       "      <td>9</td>\n",
       "      <td>Tag</td>\n",
       "      <td>inventory at work</td>\n",
       "      <td>NaN</td>\n",
       "    </tr>\n",
       "    <tr>\n",
       "      <th>60</th>\n",
       "      <td>QEVuQwEAO+R1md5HUn8+w1Qpbg7ogw==</td>\n",
       "      <td>NaN</td>\n",
       "      <td>NaN</td>\n",
       "      <td>NaN</td>\n",
       "      <td>2015-05-27</td>\n",
       "      <td>2</td>\n",
       "      <td>Tag</td>\n",
       "      <td>stressed</td>\n",
       "      <td>NaN</td>\n",
       "    </tr>\n",
       "    <tr>\n",
       "      <th>61</th>\n",
       "      <td>QEVuQwEAO+R1md5HUn8+w1Qpbg7ogw==</td>\n",
       "      <td>NaN</td>\n",
       "      <td>NaN</td>\n",
       "      <td>NaN</td>\n",
       "      <td>2015-05-27</td>\n",
       "      <td>1</td>\n",
       "      <td>Tag</td>\n",
       "      <td>tired</td>\n",
       "      <td>NaN</td>\n",
       "    </tr>\n",
       "    <tr>\n",
       "      <th>62</th>\n",
       "      <td>QEVuQwEAO+R1md5HUn8+w1Qpbg7ogw==</td>\n",
       "      <td>NaN</td>\n",
       "      <td>NaN</td>\n",
       "      <td>NaN</td>\n",
       "      <td>2015-05-27</td>\n",
       "      <td>4</td>\n",
       "      <td>Tag</td>\n",
       "      <td>Went to work</td>\n",
       "      <td>NaN</td>\n",
       "    </tr>\n",
       "    <tr>\n",
       "      <th>63</th>\n",
       "      <td>QEVuQwEAO+R1md5HUn8+w1Qpbg7ogw==</td>\n",
       "      <td>NaN</td>\n",
       "      <td>NaN</td>\n",
       "      <td>NaN</td>\n",
       "      <td>2015-05-27</td>\n",
       "      <td>5</td>\n",
       "      <td>Tag</td>\n",
       "      <td>worried</td>\n",
       "      <td>NaN</td>\n",
       "    </tr>\n",
       "    <tr>\n",
       "      <th>64</th>\n",
       "      <td>QEVuQwEAO+R1md5HUn8+w1Qpbg7ogw==</td>\n",
       "      <td>NaN</td>\n",
       "      <td>NaN</td>\n",
       "      <td>NaN</td>\n",
       "      <td>2015-05-27</td>\n",
       "      <td>6</td>\n",
       "      <td>Tag</td>\n",
       "      <td>saw a movie</td>\n",
       "      <td>NaN</td>\n",
       "    </tr>\n",
       "    <tr>\n",
       "      <th>77</th>\n",
       "      <td>QEVuQwEAt9BT8darNBUVXse2TEL3SA==</td>\n",
       "      <td>30.0</td>\n",
       "      <td>female</td>\n",
       "      <td>US</td>\n",
       "      <td>2015-07-17</td>\n",
       "      <td>10</td>\n",
       "      <td>Tag</td>\n",
       "      <td>ate breakfast</td>\n",
       "      <td>NaN</td>\n",
       "    </tr>\n",
       "    <tr>\n",
       "      <th>78</th>\n",
       "      <td>QEVuQwEAt9BT8darNBUVXse2TEL3SA==</td>\n",
       "      <td>30.0</td>\n",
       "      <td>female</td>\n",
       "      <td>US</td>\n",
       "      <td>2015-07-17</td>\n",
       "      <td>13</td>\n",
       "      <td>Tag</td>\n",
       "      <td>good sleep</td>\n",
       "      <td>NaN</td>\n",
       "    </tr>\n",
       "    <tr>\n",
       "      <th>79</th>\n",
       "      <td>QEVuQwEAt9BT8darNBUVXse2TEL3SA==</td>\n",
       "      <td>30.0</td>\n",
       "      <td>female</td>\n",
       "      <td>US</td>\n",
       "      <td>2015-07-17</td>\n",
       "      <td>16</td>\n",
       "      <td>Tag</td>\n",
       "      <td>smoothie</td>\n",
       "      <td>NaN</td>\n",
       "    </tr>\n",
       "    <tr>\n",
       "      <th>80</th>\n",
       "      <td>QEVuQwEAt9BT8darNBUVXse2TEL3SA==</td>\n",
       "      <td>30.0</td>\n",
       "      <td>female</td>\n",
       "      <td>US</td>\n",
       "      <td>2015-07-17</td>\n",
       "      <td>17</td>\n",
       "      <td>Tag</td>\n",
       "      <td>banana</td>\n",
       "      <td>NaN</td>\n",
       "    </tr>\n",
       "    <tr>\n",
       "      <th>81</th>\n",
       "      <td>QEVuQwEAt9BT8darNBUVXse2TEL3SA==</td>\n",
       "      <td>30.0</td>\n",
       "      <td>female</td>\n",
       "      <td>US</td>\n",
       "      <td>2015-07-17</td>\n",
       "      <td>18</td>\n",
       "      <td>Tag</td>\n",
       "      <td>nectarine</td>\n",
       "      <td>NaN</td>\n",
       "    </tr>\n",
       "    <tr>\n",
       "      <th>82</th>\n",
       "      <td>QEVuQwEAt9BT8darNBUVXse2TEL3SA==</td>\n",
       "      <td>30.0</td>\n",
       "      <td>female</td>\n",
       "      <td>US</td>\n",
       "      <td>2015-07-17</td>\n",
       "      <td>19</td>\n",
       "      <td>Tag</td>\n",
       "      <td>spinach</td>\n",
       "      <td>NaN</td>\n",
       "    </tr>\n",
       "    <tr>\n",
       "      <th>83</th>\n",
       "      <td>QEVuQwEAt9BT8darNBUVXse2TEL3SA==</td>\n",
       "      <td>30.0</td>\n",
       "      <td>female</td>\n",
       "      <td>US</td>\n",
       "      <td>2015-07-17</td>\n",
       "      <td>20</td>\n",
       "      <td>Tag</td>\n",
       "      <td>coconut milk</td>\n",
       "      <td>NaN</td>\n",
       "    </tr>\n",
       "    <tr>\n",
       "      <th>84</th>\n",
       "      <td>QEVuQwEAt9BT8darNBUVXse2TEL3SA==</td>\n",
       "      <td>30.0</td>\n",
       "      <td>female</td>\n",
       "      <td>US</td>\n",
       "      <td>2015-07-17</td>\n",
       "      <td>21</td>\n",
       "      <td>Tag</td>\n",
       "      <td>mango</td>\n",
       "      <td>NaN</td>\n",
       "    </tr>\n",
       "    <tr>\n",
       "      <th>85</th>\n",
       "      <td>QEVuQwEAt9BT8darNBUVXse2TEL3SA==</td>\n",
       "      <td>30.0</td>\n",
       "      <td>female</td>\n",
       "      <td>US</td>\n",
       "      <td>2015-07-17</td>\n",
       "      <td>22</td>\n",
       "      <td>Tag</td>\n",
       "      <td>jimmy john's</td>\n",
       "      <td>NaN</td>\n",
       "    </tr>\n",
       "    <tr>\n",
       "      <th>...</th>\n",
       "      <td>...</td>\n",
       "      <td>...</td>\n",
       "      <td>...</td>\n",
       "      <td>...</td>\n",
       "      <td>...</td>\n",
       "      <td>...</td>\n",
       "      <td>...</td>\n",
       "      <td>...</td>\n",
       "      <td>...</td>\n",
       "    </tr>\n",
       "    <tr>\n",
       "      <th>3487225</th>\n",
       "      <td>QEVuQwEA60JIPtdVbtWs6iJH1KYphA==</td>\n",
       "      <td>44.0</td>\n",
       "      <td>female</td>\n",
       "      <td>US</td>\n",
       "      <td>2018-07-08</td>\n",
       "      <td>35</td>\n",
       "      <td>Tag</td>\n",
       "      <td>vacation</td>\n",
       "      <td>NaN</td>\n",
       "    </tr>\n",
       "    <tr>\n",
       "      <th>3487299</th>\n",
       "      <td>QEVuQwEA60JIPtdVbtWs6iJH1KYphA==</td>\n",
       "      <td>44.0</td>\n",
       "      <td>female</td>\n",
       "      <td>US</td>\n",
       "      <td>2018-07-09</td>\n",
       "      <td>22727</td>\n",
       "      <td>Tag</td>\n",
       "      <td>Post-vacation</td>\n",
       "      <td>NaN</td>\n",
       "    </tr>\n",
       "    <tr>\n",
       "      <th>3487429</th>\n",
       "      <td>QEVuQwEAgGZ6lkNq4Wmhdj6GPnvtbQ==</td>\n",
       "      <td>27.0</td>\n",
       "      <td>female</td>\n",
       "      <td>AU</td>\n",
       "      <td>2018-07-13</td>\n",
       "      <td>1193</td>\n",
       "      <td>Tag</td>\n",
       "      <td>itchy eyes</td>\n",
       "      <td>NaN</td>\n",
       "    </tr>\n",
       "    <tr>\n",
       "      <th>3487430</th>\n",
       "      <td>QEVuQwEAgGZ6lkNq4Wmhdj6GPnvtbQ==</td>\n",
       "      <td>27.0</td>\n",
       "      <td>female</td>\n",
       "      <td>AU</td>\n",
       "      <td>2018-07-13</td>\n",
       "      <td>5814</td>\n",
       "      <td>Tag</td>\n",
       "      <td>runny nose</td>\n",
       "      <td>NaN</td>\n",
       "    </tr>\n",
       "    <tr>\n",
       "      <th>3487431</th>\n",
       "      <td>QEVuQwEAgGZ6lkNq4Wmhdj6GPnvtbQ==</td>\n",
       "      <td>27.0</td>\n",
       "      <td>female</td>\n",
       "      <td>AU</td>\n",
       "      <td>2018-07-13</td>\n",
       "      <td>8739</td>\n",
       "      <td>Tag</td>\n",
       "      <td>sneezing</td>\n",
       "      <td>NaN</td>\n",
       "    </tr>\n",
       "    <tr>\n",
       "      <th>3487432</th>\n",
       "      <td>QEVuQwEAgGZ6lkNq4Wmhdj6GPnvtbQ==</td>\n",
       "      <td>27.0</td>\n",
       "      <td>female</td>\n",
       "      <td>AU</td>\n",
       "      <td>2018-07-13</td>\n",
       "      <td>22819</td>\n",
       "      <td>Tag</td>\n",
       "      <td>sniffly</td>\n",
       "      <td>NaN</td>\n",
       "    </tr>\n",
       "    <tr>\n",
       "      <th>3487433</th>\n",
       "      <td>QEVuQwEAgGZ6lkNq4Wmhdj6GPnvtbQ==</td>\n",
       "      <td>27.0</td>\n",
       "      <td>female</td>\n",
       "      <td>AU</td>\n",
       "      <td>2018-07-13</td>\n",
       "      <td>22820</td>\n",
       "      <td>Tag</td>\n",
       "      <td>organisational stress</td>\n",
       "      <td>NaN</td>\n",
       "    </tr>\n",
       "    <tr>\n",
       "      <th>3487452</th>\n",
       "      <td>QEVuQwEA6tVnDmhO0UaM0Fw/OMb7IQ==</td>\n",
       "      <td>17.0</td>\n",
       "      <td>female</td>\n",
       "      <td>FR</td>\n",
       "      <td>2017-12-11</td>\n",
       "      <td>1</td>\n",
       "      <td>Tag</td>\n",
       "      <td>tired</td>\n",
       "      <td>NaN</td>\n",
       "    </tr>\n",
       "    <tr>\n",
       "      <th>3487453</th>\n",
       "      <td>QEVuQwEA6tVnDmhO0UaM0Fw/OMb7IQ==</td>\n",
       "      <td>17.0</td>\n",
       "      <td>female</td>\n",
       "      <td>FR</td>\n",
       "      <td>2017-12-11</td>\n",
       "      <td>2</td>\n",
       "      <td>Tag</td>\n",
       "      <td>stressed</td>\n",
       "      <td>NaN</td>\n",
       "    </tr>\n",
       "    <tr>\n",
       "      <th>3487454</th>\n",
       "      <td>QEVuQwEA6tVnDmhO0UaM0Fw/OMb7IQ==</td>\n",
       "      <td>17.0</td>\n",
       "      <td>female</td>\n",
       "      <td>FR</td>\n",
       "      <td>2017-12-11</td>\n",
       "      <td>135</td>\n",
       "      <td>Tag</td>\n",
       "      <td>walked</td>\n",
       "      <td>NaN</td>\n",
       "    </tr>\n",
       "    <tr>\n",
       "      <th>3487475</th>\n",
       "      <td>QEVuQwEA6tVnDmhO0UaM0Fw/OMb7IQ==</td>\n",
       "      <td>17.0</td>\n",
       "      <td>female</td>\n",
       "      <td>FR</td>\n",
       "      <td>2018-07-10</td>\n",
       "      <td>1</td>\n",
       "      <td>Tag</td>\n",
       "      <td>tired</td>\n",
       "      <td>NaN</td>\n",
       "    </tr>\n",
       "    <tr>\n",
       "      <th>3487476</th>\n",
       "      <td>QEVuQwEA6tVnDmhO0UaM0Fw/OMb7IQ==</td>\n",
       "      <td>17.0</td>\n",
       "      <td>female</td>\n",
       "      <td>FR</td>\n",
       "      <td>2018-07-10</td>\n",
       "      <td>142</td>\n",
       "      <td>Tag</td>\n",
       "      <td>period</td>\n",
       "      <td>NaN</td>\n",
       "    </tr>\n",
       "    <tr>\n",
       "      <th>3487501</th>\n",
       "      <td>QEVuQwEA6tVnDmhO0UaM0Fw/OMb7IQ==</td>\n",
       "      <td>17.0</td>\n",
       "      <td>female</td>\n",
       "      <td>FR</td>\n",
       "      <td>2018-07-11</td>\n",
       "      <td>142</td>\n",
       "      <td>Tag</td>\n",
       "      <td>period</td>\n",
       "      <td>NaN</td>\n",
       "    </tr>\n",
       "    <tr>\n",
       "      <th>3487537</th>\n",
       "      <td>QEVuQwEA6tVnDmhO0UaM0Fw/OMb7IQ==</td>\n",
       "      <td>17.0</td>\n",
       "      <td>female</td>\n",
       "      <td>FR</td>\n",
       "      <td>2018-07-12</td>\n",
       "      <td>1</td>\n",
       "      <td>Tag</td>\n",
       "      <td>tired</td>\n",
       "      <td>NaN</td>\n",
       "    </tr>\n",
       "    <tr>\n",
       "      <th>3487538</th>\n",
       "      <td>QEVuQwEA6tVnDmhO0UaM0Fw/OMb7IQ==</td>\n",
       "      <td>17.0</td>\n",
       "      <td>female</td>\n",
       "      <td>FR</td>\n",
       "      <td>2018-07-12</td>\n",
       "      <td>10</td>\n",
       "      <td>Tag</td>\n",
       "      <td>ate breakfast</td>\n",
       "      <td>NaN</td>\n",
       "    </tr>\n",
       "    <tr>\n",
       "      <th>3487539</th>\n",
       "      <td>QEVuQwEA6tVnDmhO0UaM0Fw/OMb7IQ==</td>\n",
       "      <td>17.0</td>\n",
       "      <td>female</td>\n",
       "      <td>FR</td>\n",
       "      <td>2018-07-12</td>\n",
       "      <td>142</td>\n",
       "      <td>Tag</td>\n",
       "      <td>period</td>\n",
       "      <td>NaN</td>\n",
       "    </tr>\n",
       "    <tr>\n",
       "      <th>3487570</th>\n",
       "      <td>QEVuQwEAygjDMOfOvj0h5o+ld2y+Nw==</td>\n",
       "      <td>34.0</td>\n",
       "      <td>female</td>\n",
       "      <td>CA</td>\n",
       "      <td>2018-07-12</td>\n",
       "      <td>1</td>\n",
       "      <td>Tag</td>\n",
       "      <td>tired</td>\n",
       "      <td>NaN</td>\n",
       "    </tr>\n",
       "    <tr>\n",
       "      <th>3487571</th>\n",
       "      <td>QEVuQwEAygjDMOfOvj0h5o+ld2y+Nw==</td>\n",
       "      <td>34.0</td>\n",
       "      <td>female</td>\n",
       "      <td>CA</td>\n",
       "      <td>2018-07-12</td>\n",
       "      <td>10</td>\n",
       "      <td>Tag</td>\n",
       "      <td>ate breakfast</td>\n",
       "      <td>NaN</td>\n",
       "    </tr>\n",
       "    <tr>\n",
       "      <th>3487572</th>\n",
       "      <td>QEVuQwEAygjDMOfOvj0h5o+ld2y+Nw==</td>\n",
       "      <td>34.0</td>\n",
       "      <td>female</td>\n",
       "      <td>CA</td>\n",
       "      <td>2018-07-12</td>\n",
       "      <td>135</td>\n",
       "      <td>Tag</td>\n",
       "      <td>walked</td>\n",
       "      <td>NaN</td>\n",
       "    </tr>\n",
       "    <tr>\n",
       "      <th>3487573</th>\n",
       "      <td>QEVuQwEAygjDMOfOvj0h5o+ld2y+Nw==</td>\n",
       "      <td>34.0</td>\n",
       "      <td>female</td>\n",
       "      <td>CA</td>\n",
       "      <td>2018-07-12</td>\n",
       "      <td>142</td>\n",
       "      <td>Tag</td>\n",
       "      <td>period</td>\n",
       "      <td>NaN</td>\n",
       "    </tr>\n",
       "    <tr>\n",
       "      <th>3487574</th>\n",
       "      <td>QEVuQwEAygjDMOfOvj0h5o+ld2y+Nw==</td>\n",
       "      <td>34.0</td>\n",
       "      <td>female</td>\n",
       "      <td>CA</td>\n",
       "      <td>2018-07-12</td>\n",
       "      <td>1797</td>\n",
       "      <td>Tag</td>\n",
       "      <td>bad sleep last night</td>\n",
       "      <td>NaN</td>\n",
       "    </tr>\n",
       "    <tr>\n",
       "      <th>3487575</th>\n",
       "      <td>QEVuQwEAygjDMOfOvj0h5o+ld2y+Nw==</td>\n",
       "      <td>34.0</td>\n",
       "      <td>female</td>\n",
       "      <td>CA</td>\n",
       "      <td>2018-07-12</td>\n",
       "      <td>22816</td>\n",
       "      <td>Tag</td>\n",
       "      <td>taught class</td>\n",
       "      <td>NaN</td>\n",
       "    </tr>\n",
       "    <tr>\n",
       "      <th>3487601</th>\n",
       "      <td>QEVuQwEAk8TstQqKvjz8p2J6FAqOcA==</td>\n",
       "      <td>24.0</td>\n",
       "      <td>male</td>\n",
       "      <td>GB</td>\n",
       "      <td>2018-07-12</td>\n",
       "      <td>539</td>\n",
       "      <td>Tag</td>\n",
       "      <td>fatigued</td>\n",
       "      <td>NaN</td>\n",
       "    </tr>\n",
       "    <tr>\n",
       "      <th>3487602</th>\n",
       "      <td>QEVuQwEAk8TstQqKvjz8p2J6FAqOcA==</td>\n",
       "      <td>24.0</td>\n",
       "      <td>male</td>\n",
       "      <td>GB</td>\n",
       "      <td>2018-07-12</td>\n",
       "      <td>1308</td>\n",
       "      <td>Tag</td>\n",
       "      <td>stomach pain</td>\n",
       "      <td>NaN</td>\n",
       "    </tr>\n",
       "    <tr>\n",
       "      <th>3487603</th>\n",
       "      <td>QEVuQwEAk8TstQqKvjz8p2J6FAqOcA==</td>\n",
       "      <td>24.0</td>\n",
       "      <td>male</td>\n",
       "      <td>GB</td>\n",
       "      <td>2018-07-12</td>\n",
       "      <td>5915</td>\n",
       "      <td>Tag</td>\n",
       "      <td>IBD issues</td>\n",
       "      <td>NaN</td>\n",
       "    </tr>\n",
       "    <tr>\n",
       "      <th>3487621</th>\n",
       "      <td>QEVuQwEAUuGkJbPOl/k3sOZp+tkH8Q==</td>\n",
       "      <td>28.0</td>\n",
       "      <td>female</td>\n",
       "      <td>US</td>\n",
       "      <td>2018-07-12</td>\n",
       "      <td>1</td>\n",
       "      <td>Tag</td>\n",
       "      <td>tired</td>\n",
       "      <td>NaN</td>\n",
       "    </tr>\n",
       "    <tr>\n",
       "      <th>3487622</th>\n",
       "      <td>QEVuQwEAUuGkJbPOl/k3sOZp+tkH8Q==</td>\n",
       "      <td>28.0</td>\n",
       "      <td>female</td>\n",
       "      <td>US</td>\n",
       "      <td>2018-07-12</td>\n",
       "      <td>2</td>\n",
       "      <td>Tag</td>\n",
       "      <td>stressed</td>\n",
       "      <td>NaN</td>\n",
       "    </tr>\n",
       "    <tr>\n",
       "      <th>3487623</th>\n",
       "      <td>QEVuQwEAUuGkJbPOl/k3sOZp+tkH8Q==</td>\n",
       "      <td>28.0</td>\n",
       "      <td>female</td>\n",
       "      <td>US</td>\n",
       "      <td>2018-07-12</td>\n",
       "      <td>10</td>\n",
       "      <td>Tag</td>\n",
       "      <td>ate breakfast</td>\n",
       "      <td>NaN</td>\n",
       "    </tr>\n",
       "    <tr>\n",
       "      <th>3487624</th>\n",
       "      <td>QEVuQwEAUuGkJbPOl/k3sOZp+tkH8Q==</td>\n",
       "      <td>28.0</td>\n",
       "      <td>female</td>\n",
       "      <td>US</td>\n",
       "      <td>2018-07-12</td>\n",
       "      <td>51</td>\n",
       "      <td>Tag</td>\n",
       "      <td>gluten</td>\n",
       "      <td>NaN</td>\n",
       "    </tr>\n",
       "    <tr>\n",
       "      <th>3487625</th>\n",
       "      <td>QEVuQwEAUuGkJbPOl/k3sOZp+tkH8Q==</td>\n",
       "      <td>28.0</td>\n",
       "      <td>female</td>\n",
       "      <td>US</td>\n",
       "      <td>2018-07-12</td>\n",
       "      <td>151</td>\n",
       "      <td>Tag</td>\n",
       "      <td>Headache</td>\n",
       "      <td>NaN</td>\n",
       "    </tr>\n",
       "  </tbody>\n",
       "</table>\n",
       "<p>207902 rows × 9 columns</p>\n",
       "</div>"
      ],
      "text/plain": [
       "                                  user_id   age     sex country checkin_date  \\\n",
       "26       QEVuQwEAO+R1md5HUn8+w1Qpbg7ogw==   NaN     NaN     NaN   2015-05-26   \n",
       "27       QEVuQwEAO+R1md5HUn8+w1Qpbg7ogw==   NaN     NaN     NaN   2015-05-26   \n",
       "28       QEVuQwEAO+R1md5HUn8+w1Qpbg7ogw==   NaN     NaN     NaN   2015-05-26   \n",
       "33       QEVuQwEAO+R1md5HUn8+w1Qpbg7ogw==   NaN     NaN     NaN   2015-06-14   \n",
       "34       QEVuQwEAO+R1md5HUn8+w1Qpbg7ogw==   NaN     NaN     NaN   2015-06-14   \n",
       "35       QEVuQwEAO+R1md5HUn8+w1Qpbg7ogw==   NaN     NaN     NaN   2015-06-14   \n",
       "40       QEVuQwEAO+R1md5HUn8+w1Qpbg7ogw==   NaN     NaN     NaN   2015-06-11   \n",
       "41       QEVuQwEAO+R1md5HUn8+w1Qpbg7ogw==   NaN     NaN     NaN   2015-06-11   \n",
       "42       QEVuQwEAO+R1md5HUn8+w1Qpbg7ogw==   NaN     NaN     NaN   2015-06-11   \n",
       "43       QEVuQwEAO+R1md5HUn8+w1Qpbg7ogw==   NaN     NaN     NaN   2015-06-11   \n",
       "44       QEVuQwEAO+R1md5HUn8+w1Qpbg7ogw==   NaN     NaN     NaN   2015-06-11   \n",
       "48       QEVuQwEAO+R1md5HUn8+w1Qpbg7ogw==   NaN     NaN     NaN   2015-06-10   \n",
       "49       QEVuQwEAO+R1md5HUn8+w1Qpbg7ogw==   NaN     NaN     NaN   2015-06-10   \n",
       "50       QEVuQwEAO+R1md5HUn8+w1Qpbg7ogw==   NaN     NaN     NaN   2015-06-10   \n",
       "51       QEVuQwEAO+R1md5HUn8+w1Qpbg7ogw==   NaN     NaN     NaN   2015-06-10   \n",
       "52       QEVuQwEAO+R1md5HUn8+w1Qpbg7ogw==   NaN     NaN     NaN   2015-06-10   \n",
       "60       QEVuQwEAO+R1md5HUn8+w1Qpbg7ogw==   NaN     NaN     NaN   2015-05-27   \n",
       "61       QEVuQwEAO+R1md5HUn8+w1Qpbg7ogw==   NaN     NaN     NaN   2015-05-27   \n",
       "62       QEVuQwEAO+R1md5HUn8+w1Qpbg7ogw==   NaN     NaN     NaN   2015-05-27   \n",
       "63       QEVuQwEAO+R1md5HUn8+w1Qpbg7ogw==   NaN     NaN     NaN   2015-05-27   \n",
       "64       QEVuQwEAO+R1md5HUn8+w1Qpbg7ogw==   NaN     NaN     NaN   2015-05-27   \n",
       "77       QEVuQwEAt9BT8darNBUVXse2TEL3SA==  30.0  female      US   2015-07-17   \n",
       "78       QEVuQwEAt9BT8darNBUVXse2TEL3SA==  30.0  female      US   2015-07-17   \n",
       "79       QEVuQwEAt9BT8darNBUVXse2TEL3SA==  30.0  female      US   2015-07-17   \n",
       "80       QEVuQwEAt9BT8darNBUVXse2TEL3SA==  30.0  female      US   2015-07-17   \n",
       "81       QEVuQwEAt9BT8darNBUVXse2TEL3SA==  30.0  female      US   2015-07-17   \n",
       "82       QEVuQwEAt9BT8darNBUVXse2TEL3SA==  30.0  female      US   2015-07-17   \n",
       "83       QEVuQwEAt9BT8darNBUVXse2TEL3SA==  30.0  female      US   2015-07-17   \n",
       "84       QEVuQwEAt9BT8darNBUVXse2TEL3SA==  30.0  female      US   2015-07-17   \n",
       "85       QEVuQwEAt9BT8darNBUVXse2TEL3SA==  30.0  female      US   2015-07-17   \n",
       "...                                   ...   ...     ...     ...          ...   \n",
       "3487225  QEVuQwEA60JIPtdVbtWs6iJH1KYphA==  44.0  female      US   2018-07-08   \n",
       "3487299  QEVuQwEA60JIPtdVbtWs6iJH1KYphA==  44.0  female      US   2018-07-09   \n",
       "3487429  QEVuQwEAgGZ6lkNq4Wmhdj6GPnvtbQ==  27.0  female      AU   2018-07-13   \n",
       "3487430  QEVuQwEAgGZ6lkNq4Wmhdj6GPnvtbQ==  27.0  female      AU   2018-07-13   \n",
       "3487431  QEVuQwEAgGZ6lkNq4Wmhdj6GPnvtbQ==  27.0  female      AU   2018-07-13   \n",
       "3487432  QEVuQwEAgGZ6lkNq4Wmhdj6GPnvtbQ==  27.0  female      AU   2018-07-13   \n",
       "3487433  QEVuQwEAgGZ6lkNq4Wmhdj6GPnvtbQ==  27.0  female      AU   2018-07-13   \n",
       "3487452  QEVuQwEA6tVnDmhO0UaM0Fw/OMb7IQ==  17.0  female      FR   2017-12-11   \n",
       "3487453  QEVuQwEA6tVnDmhO0UaM0Fw/OMb7IQ==  17.0  female      FR   2017-12-11   \n",
       "3487454  QEVuQwEA6tVnDmhO0UaM0Fw/OMb7IQ==  17.0  female      FR   2017-12-11   \n",
       "3487475  QEVuQwEA6tVnDmhO0UaM0Fw/OMb7IQ==  17.0  female      FR   2018-07-10   \n",
       "3487476  QEVuQwEA6tVnDmhO0UaM0Fw/OMb7IQ==  17.0  female      FR   2018-07-10   \n",
       "3487501  QEVuQwEA6tVnDmhO0UaM0Fw/OMb7IQ==  17.0  female      FR   2018-07-11   \n",
       "3487537  QEVuQwEA6tVnDmhO0UaM0Fw/OMb7IQ==  17.0  female      FR   2018-07-12   \n",
       "3487538  QEVuQwEA6tVnDmhO0UaM0Fw/OMb7IQ==  17.0  female      FR   2018-07-12   \n",
       "3487539  QEVuQwEA6tVnDmhO0UaM0Fw/OMb7IQ==  17.0  female      FR   2018-07-12   \n",
       "3487570  QEVuQwEAygjDMOfOvj0h5o+ld2y+Nw==  34.0  female      CA   2018-07-12   \n",
       "3487571  QEVuQwEAygjDMOfOvj0h5o+ld2y+Nw==  34.0  female      CA   2018-07-12   \n",
       "3487572  QEVuQwEAygjDMOfOvj0h5o+ld2y+Nw==  34.0  female      CA   2018-07-12   \n",
       "3487573  QEVuQwEAygjDMOfOvj0h5o+ld2y+Nw==  34.0  female      CA   2018-07-12   \n",
       "3487574  QEVuQwEAygjDMOfOvj0h5o+ld2y+Nw==  34.0  female      CA   2018-07-12   \n",
       "3487575  QEVuQwEAygjDMOfOvj0h5o+ld2y+Nw==  34.0  female      CA   2018-07-12   \n",
       "3487601  QEVuQwEAk8TstQqKvjz8p2J6FAqOcA==  24.0    male      GB   2018-07-12   \n",
       "3487602  QEVuQwEAk8TstQqKvjz8p2J6FAqOcA==  24.0    male      GB   2018-07-12   \n",
       "3487603  QEVuQwEAk8TstQqKvjz8p2J6FAqOcA==  24.0    male      GB   2018-07-12   \n",
       "3487621  QEVuQwEAUuGkJbPOl/k3sOZp+tkH8Q==  28.0  female      US   2018-07-12   \n",
       "3487622  QEVuQwEAUuGkJbPOl/k3sOZp+tkH8Q==  28.0  female      US   2018-07-12   \n",
       "3487623  QEVuQwEAUuGkJbPOl/k3sOZp+tkH8Q==  28.0  female      US   2018-07-12   \n",
       "3487624  QEVuQwEAUuGkJbPOl/k3sOZp+tkH8Q==  28.0  female      US   2018-07-12   \n",
       "3487625  QEVuQwEAUuGkJbPOl/k3sOZp+tkH8Q==  28.0  female      US   2018-07-12   \n",
       "\n",
       "        trackable_id trackable_type         trackable_name trackable_value  \n",
       "26                 1            Tag                  tired             NaN  \n",
       "27                 2            Tag               stressed             NaN  \n",
       "28                 3            Tag                  feels             NaN  \n",
       "33                13            Tag             good sleep             NaN  \n",
       "34                14            Tag                haircut             NaN  \n",
       "35                15            Tag                   Derp             NaN  \n",
       "40                 1            Tag                  tired             NaN  \n",
       "41                10            Tag          ate breakfast             NaN  \n",
       "42                 4            Tag           Went to work             NaN  \n",
       "43                11            Tag  Wrong about something             NaN  \n",
       "44                12            Tag  Confronted a coworker             NaN  \n",
       "48                 1            Tag                  tired             NaN  \n",
       "49                 2            Tag               stressed             NaN  \n",
       "50                 7            Tag                had sex             NaN  \n",
       "51                 8            Tag     doctor appointment             NaN  \n",
       "52                 9            Tag      inventory at work             NaN  \n",
       "60                 2            Tag               stressed             NaN  \n",
       "61                 1            Tag                  tired             NaN  \n",
       "62                 4            Tag           Went to work             NaN  \n",
       "63                 5            Tag                worried             NaN  \n",
       "64                 6            Tag            saw a movie             NaN  \n",
       "77                10            Tag          ate breakfast             NaN  \n",
       "78                13            Tag             good sleep             NaN  \n",
       "79                16            Tag               smoothie             NaN  \n",
       "80                17            Tag                 banana             NaN  \n",
       "81                18            Tag              nectarine             NaN  \n",
       "82                19            Tag                spinach             NaN  \n",
       "83                20            Tag           coconut milk             NaN  \n",
       "84                21            Tag                  mango             NaN  \n",
       "85                22            Tag           jimmy john's             NaN  \n",
       "...              ...            ...                    ...             ...  \n",
       "3487225           35            Tag               vacation             NaN  \n",
       "3487299        22727            Tag          Post-vacation             NaN  \n",
       "3487429         1193            Tag             itchy eyes             NaN  \n",
       "3487430         5814            Tag             runny nose             NaN  \n",
       "3487431         8739            Tag               sneezing             NaN  \n",
       "3487432        22819            Tag                sniffly             NaN  \n",
       "3487433        22820            Tag  organisational stress             NaN  \n",
       "3487452            1            Tag                  tired             NaN  \n",
       "3487453            2            Tag               stressed             NaN  \n",
       "3487454          135            Tag                 walked             NaN  \n",
       "3487475            1            Tag                  tired             NaN  \n",
       "3487476          142            Tag                 period             NaN  \n",
       "3487501          142            Tag                 period             NaN  \n",
       "3487537            1            Tag                  tired             NaN  \n",
       "3487538           10            Tag          ate breakfast             NaN  \n",
       "3487539          142            Tag                 period             NaN  \n",
       "3487570            1            Tag                  tired             NaN  \n",
       "3487571           10            Tag          ate breakfast             NaN  \n",
       "3487572          135            Tag                 walked             NaN  \n",
       "3487573          142            Tag                 period             NaN  \n",
       "3487574         1797            Tag   bad sleep last night             NaN  \n",
       "3487575        22816            Tag           taught class             NaN  \n",
       "3487601          539            Tag               fatigued             NaN  \n",
       "3487602         1308            Tag           stomach pain             NaN  \n",
       "3487603         5915            Tag             IBD issues             NaN  \n",
       "3487621            1            Tag                  tired             NaN  \n",
       "3487622            2            Tag               stressed             NaN  \n",
       "3487623           10            Tag          ate breakfast             NaN  \n",
       "3487624           51            Tag                 gluten             NaN  \n",
       "3487625          151            Tag               Headache             NaN  \n",
       "\n",
       "[207902 rows x 9 columns]"
      ]
     },
     "execution_count": 12,
     "metadata": {},
     "output_type": "execute_result"
    }
   ],
   "source": [
    "df[df['trackable_type'] == 'Tag']"
   ]
  },
  {
   "cell_type": "markdown",
   "metadata": {},
   "source": [
    "**Tidiness:**\n",
    "- the column `trackable_type` could be split into multiple columns for: condition, symptom, weather and tag\n",
    "- it would be nice to have one row per patient, but the date is a problem\n",
    "- compute additional date something like a day 0 and then upwards to the last entry for the user, should lead to better comparability of the date for analysis, keep date nonetheless for longitudinal analysis"
   ]
  },
  {
   "cell_type": "markdown",
   "metadata": {},
   "source": [
    "**Quality:**\n",
    "- `user_id` is complex and non comprehensive, change to unique int\n",
    "- unlikely and impossible values like 1 or negative in `age`\n",
    "- wrong datatypes for `checkin_date`, and `trackable_value`\n",
    "- the `trackable_type` tag is very heterogenetic, filtering might be possible"
   ]
  },
  {
   "cell_type": "markdown",
   "metadata": {},
   "source": [
    "<a id='clean'></a>\n",
    "# Clean"
   ]
  },
  {
   "cell_type": "code",
   "execution_count": 13,
   "metadata": {},
   "outputs": [],
   "source": [
    "df_clean = df.copy()"
   ]
  },
  {
   "cell_type": "markdown",
   "metadata": {},
   "source": [
    "**1. Define**<br>\n",
    "Change the alphanumerical value from user_id to a unique integer for each user."
   ]
  },
  {
   "cell_type": "markdown",
   "metadata": {},
   "source": [
    "**1. Code**"
   ]
  },
  {
   "cell_type": "code",
   "execution_count": 14,
   "metadata": {},
   "outputs": [],
   "source": [
    "#change user_id to categorical\n",
    "df_clean['user_id'] = pd.Categorical(df_clean['user_id'])"
   ]
  },
  {
   "cell_type": "code",
   "execution_count": 15,
   "metadata": {},
   "outputs": [],
   "source": [
    "#transforming them into category codes (1)\n",
    "df_clean['user_id'] = df_clean.user_id.cat.codes"
   ]
  },
  {
   "cell_type": "markdown",
   "metadata": {},
   "source": [
    "**1. Test**"
   ]
  },
  {
   "cell_type": "code",
   "execution_count": 16,
   "metadata": {
    "scrolled": true
   },
   "outputs": [
    {
     "data": {
      "text/html": [
       "<div>\n",
       "<style scoped>\n",
       "    .dataframe tbody tr th:only-of-type {\n",
       "        vertical-align: middle;\n",
       "    }\n",
       "\n",
       "    .dataframe tbody tr th {\n",
       "        vertical-align: top;\n",
       "    }\n",
       "\n",
       "    .dataframe thead th {\n",
       "        text-align: right;\n",
       "    }\n",
       "</style>\n",
       "<table border=\"1\" class=\"dataframe\">\n",
       "  <thead>\n",
       "    <tr style=\"text-align: right;\">\n",
       "      <th></th>\n",
       "      <th>user_id</th>\n",
       "      <th>age</th>\n",
       "      <th>sex</th>\n",
       "      <th>country</th>\n",
       "      <th>checkin_date</th>\n",
       "      <th>trackable_id</th>\n",
       "      <th>trackable_type</th>\n",
       "      <th>trackable_name</th>\n",
       "      <th>trackable_value</th>\n",
       "    </tr>\n",
       "  </thead>\n",
       "  <tbody>\n",
       "    <tr>\n",
       "      <th>0</th>\n",
       "      <td>4728</td>\n",
       "      <td>NaN</td>\n",
       "      <td>NaN</td>\n",
       "      <td>NaN</td>\n",
       "      <td>2015-11-26</td>\n",
       "      <td>1069</td>\n",
       "      <td>Condition</td>\n",
       "      <td>Ulcerative colitis</td>\n",
       "      <td>0</td>\n",
       "    </tr>\n",
       "    <tr>\n",
       "      <th>1</th>\n",
       "      <td>11821</td>\n",
       "      <td>31.0</td>\n",
       "      <td>male</td>\n",
       "      <td>US</td>\n",
       "      <td>2015-11-26</td>\n",
       "      <td>1069</td>\n",
       "      <td>Condition</td>\n",
       "      <td>Ulcerative colitis</td>\n",
       "      <td>0</td>\n",
       "    </tr>\n",
       "    <tr>\n",
       "      <th>2</th>\n",
       "      <td>198</td>\n",
       "      <td>1.0</td>\n",
       "      <td>female</td>\n",
       "      <td>CA</td>\n",
       "      <td>2017-04-28</td>\n",
       "      <td>3168</td>\n",
       "      <td>Condition</td>\n",
       "      <td>pain in left upper arm felt like i was getting...</td>\n",
       "      <td>4</td>\n",
       "    </tr>\n",
       "    <tr>\n",
       "      <th>3</th>\n",
       "      <td>198</td>\n",
       "      <td>1.0</td>\n",
       "      <td>female</td>\n",
       "      <td>CA</td>\n",
       "      <td>2017-04-28</td>\n",
       "      <td>3169</td>\n",
       "      <td>Condition</td>\n",
       "      <td>hip pain when gettin up</td>\n",
       "      <td>3</td>\n",
       "    </tr>\n",
       "    <tr>\n",
       "      <th>4</th>\n",
       "      <td>198</td>\n",
       "      <td>1.0</td>\n",
       "      <td>female</td>\n",
       "      <td>CA</td>\n",
       "      <td>2017-04-28</td>\n",
       "      <td>3170</td>\n",
       "      <td>Condition</td>\n",
       "      <td>pain in hand joints</td>\n",
       "      <td>4</td>\n",
       "    </tr>\n",
       "  </tbody>\n",
       "</table>\n",
       "</div>"
      ],
      "text/plain": [
       "   user_id   age     sex country checkin_date trackable_id trackable_type  \\\n",
       "0     4728   NaN     NaN     NaN   2015-11-26         1069      Condition   \n",
       "1    11821  31.0    male      US   2015-11-26         1069      Condition   \n",
       "2      198   1.0  female      CA   2017-04-28         3168      Condition   \n",
       "3      198   1.0  female      CA   2017-04-28         3169      Condition   \n",
       "4      198   1.0  female      CA   2017-04-28         3170      Condition   \n",
       "\n",
       "                                      trackable_name trackable_value  \n",
       "0                                 Ulcerative colitis               0  \n",
       "1                                 Ulcerative colitis               0  \n",
       "2  pain in left upper arm felt like i was getting...               4  \n",
       "3                            hip pain when gettin up               3  \n",
       "4                                pain in hand joints               4  "
      ]
     },
     "execution_count": 16,
     "metadata": {},
     "output_type": "execute_result"
    }
   ],
   "source": [
    "df_clean.head()"
   ]
  },
  {
   "cell_type": "markdown",
   "metadata": {},
   "source": [
    "**2. Define**<br>\n",
    "Age has impossible values. Define and replace them with np.nan."
   ]
  },
  {
   "cell_type": "markdown",
   "metadata": {},
   "source": [
    "**2. Code**"
   ]
  },
  {
   "cell_type": "code",
   "execution_count": 17,
   "metadata": {},
   "outputs": [
    {
     "data": {
      "text/plain": [
       "count    3.270971e+06\n",
       "mean     3.287049e+01\n",
       "std      2.197340e+02\n",
       "min     -1.966930e+05\n",
       "25%      2.400000e+01\n",
       "50%      3.200000e+01\n",
       "75%      4.000000e+01\n",
       "max      2.017000e+03\n",
       "Name: age, dtype: float64"
      ]
     },
     "execution_count": 17,
     "metadata": {},
     "output_type": "execute_result"
    }
   ],
   "source": [
    "df_clean['age'].describe()"
   ]
  },
  {
   "cell_type": "code",
   "execution_count": 18,
   "metadata": {},
   "outputs": [],
   "source": [
    "#Replace 0 values with NaN, alternative .fillna\n",
    "df_clean['age'] = df_clean['age'].replace(0.0, np.nan)\n",
    "\n",
    "#oldest human recorded Jeanne Calment of France (1875–1997) was 122 years old. Cut off above 122 (2)\n",
    "df_clean.loc[df_clean['age'] > 122, 'age'] = np.nan\n",
    "\n",
    "#Replace all value < 0 with NaN\n",
    "df_clean.loc[df_clean['age'] < 0, 'age'] = np.nan"
   ]
  },
  {
   "cell_type": "code",
   "execution_count": 19,
   "metadata": {},
   "outputs": [],
   "source": [
    "df_clean['age'] = df_clean['age'].fillna(0).astype(int)"
   ]
  },
  {
   "cell_type": "markdown",
   "metadata": {},
   "source": [
    "**2. Test**"
   ]
  },
  {
   "cell_type": "code",
   "execution_count": 20,
   "metadata": {
    "scrolled": true
   },
   "outputs": [
    {
     "data": {
      "text/plain": [
       "count    3.487633e+06\n",
       "mean     3.084770e+01\n",
       "std      1.395187e+01\n",
       "min      0.000000e+00\n",
       "25%      2.300000e+01\n",
       "50%      3.100000e+01\n",
       "75%      4.000000e+01\n",
       "max      1.170000e+02\n",
       "Name: age, dtype: float64"
      ]
     },
     "execution_count": 20,
     "metadata": {},
     "output_type": "execute_result"
    }
   ],
   "source": [
    "df_clean['age'].describe()"
   ]
  },
  {
   "cell_type": "markdown",
   "metadata": {},
   "source": [
    "**3. Define**<br>\n",
    "Change `checkin_date` to datetime and `trackable_value` to string."
   ]
  },
  {
   "cell_type": "markdown",
   "metadata": {},
   "source": [
    "**3. Code**"
   ]
  },
  {
   "cell_type": "code",
   "execution_count": 21,
   "metadata": {},
   "outputs": [],
   "source": [
    "df_clean['checkin_date'] = pd.to_datetime(df_clean['checkin_date'])"
   ]
  },
  {
   "cell_type": "code",
   "execution_count": 22,
   "metadata": {},
   "outputs": [],
   "source": [
    "#At first I thought categorical would be a good choice due to the pain index, but it prevented me from doing a lot of exploration \n",
    "df_clean['trackable_value'] = df_clean['trackable_value'].astype(str)"
   ]
  },
  {
   "cell_type": "markdown",
   "metadata": {},
   "source": [
    "**3. Test**"
   ]
  },
  {
   "cell_type": "code",
   "execution_count": 23,
   "metadata": {
    "scrolled": true
   },
   "outputs": [
    {
     "name": "stdout",
     "output_type": "stream",
     "text": [
      "<class 'pandas.core.frame.DataFrame'>\n",
      "RangeIndex: 3487633 entries, 0 to 3487632\n",
      "Data columns (total 9 columns):\n",
      "user_id            int16\n",
      "age                int32\n",
      "sex                object\n",
      "country            object\n",
      "checkin_date       datetime64[ns]\n",
      "trackable_id       object\n",
      "trackable_type     object\n",
      "trackable_name     object\n",
      "trackable_value    object\n",
      "dtypes: datetime64[ns](1), int16(1), int32(1), object(6)\n",
      "memory usage: 206.2+ MB\n"
     ]
    }
   ],
   "source": [
    "df_clean.info()"
   ]
  },
  {
   "cell_type": "markdown",
   "metadata": {},
   "source": [
    "There are many NaN entries after cleaning. I purposly left all of them in the dataset but put them into np.nan. If there is an error during analysis I can easily change that later on. At this point I the data is sufficiently cleaned to start exploring it."
   ]
  },
  {
   "cell_type": "code",
   "execution_count": 25,
   "metadata": {},
   "outputs": [],
   "source": [
    "#saving new df\n",
    "df_clean.to_csv('df_clean.csv')"
   ]
  },
  {
   "cell_type": "markdown",
   "metadata": {},
   "source": [
    "<a id='explore'></a>\n",
    "# Explore"
   ]
  },
  {
   "cell_type": "code",
   "execution_count": 24,
   "metadata": {},
   "outputs": [],
   "source": [
    "#Define a base color to make exploration a little bit easier on the eyes\n",
    "base_color = sns.color_palette()[0]"
   ]
  },
  {
   "cell_type": "markdown",
   "metadata": {},
   "source": [
    "<a id='uni'></a>\n",
    "### Univariate Exploration:"
   ]
  },
  {
   "cell_type": "markdown",
   "metadata": {},
   "source": [
    "**1. Gender Distribution**"
   ]
  },
  {
   "cell_type": "code",
   "execution_count": 26,
   "metadata": {
    "scrolled": false
   },
   "outputs": [
    {
     "data": {
      "image/png": "[encoded data removed]",
      "text/plain": [
       "<Figure size 576x576 with 1 Axes>"
      ]
     },
     "metadata": {
      "needs_background": "light"
     },
     "output_type": "display_data"
    }
   ],
   "source": [
    "#Quick comparison of sex in the database\n",
    "plt.figure(figsize = (8, 8))\n",
    "sns.countplot(data = df_clean, x = 'sex', color = base_color);\n",
    "plt.show();"
   ]
  },
  {
   "cell_type": "markdown",
   "metadata": {},
   "source": [
    "This is rather interesting. Epidemiologically females might have a predisposition for some autoimmune diseases like SLE, MS and rheumatoid arthritis. But the amount of women that use this app outweigh known gender differences by a lot. "
   ]
  },
  {
   "cell_type": "markdown",
   "metadata": {},
   "source": [
    "**2. Comparing `trackable_type`**"
   ]
  },
  {
   "cell_type": "code",
   "execution_count": 27,
   "metadata": {},
   "outputs": [
    {
     "data": {
      "image/png": "[encoded data removed]",
      "text/plain": [
       "<Figure size 576x576 with 1 Axes>"
      ]
     },
     "metadata": {
      "needs_background": "light"
     },
     "output_type": "display_data"
    }
   ],
   "source": [
    "#Quick comparison of the trackable_types people used\n",
    "plt.figure(figsize = (8, 8))\n",
    "sns.countplot(data = df_clean, x = 'trackable_type', color = base_color)\n",
    "plt.xticks(rotation=15)\n",
    "plt.show()"
   ]
  },
  {
   "cell_type": "markdown",
   "metadata": {},
   "source": [
    "I couldn't find any information on the HBI type. It doesn't seem to affect us anyways, but it would be nice to know."
   ]
  },
  {
   "cell_type": "markdown",
   "metadata": {},
   "source": [
    "**3. Top 10 Symptoms**"
   ]
  },
  {
   "cell_type": "code",
   "execution_count": 28,
   "metadata": {
    "scrolled": false
   },
   "outputs": [
    {
     "data": {
      "image/png": "[encoded data removed]",
      "text/plain": [
       "<Figure size 576x576 with 1 Axes>"
      ]
     },
     "metadata": {
      "needs_background": "light"
     },
     "output_type": "display_data"
    }
   ],
   "source": [
    "#Let's look at the most common symptoms\n",
    "#Using .iloc for two reasons: 1. I can easily decide how many datapoints I want and \n",
    "#2. in conjunction with .value_counts() I get a list in ordered from highest to lowest value\n",
    "x_value = df_clean[df_clean.trackable_type == \"Symptom\"].trackable_name.value_counts().iloc[0:10]\n",
    "\n",
    "plt.figure(figsize = (8, 8))\n",
    "sns.barplot(x = x_value.index, y = x_value.values, color = base_color)\n",
    "plt.xticks(rotation = 90)\n",
    "plt.title('Most common Symptoms')\n",
    "plt.show()"
   ]
  },
  {
   "cell_type": "markdown",
   "metadata": {},
   "source": [
    "**4. Pain Distribution**"
   ]
  },
  {
   "cell_type": "code",
   "execution_count": 29,
   "metadata": {},
   "outputs": [
    {
     "data": {
      "image/png": "[encoded data removed]",
      "text/plain": [
       "<Figure size 576x576 with 1 Axes>"
      ]
     },
     "metadata": {
      "needs_background": "light"
     },
     "output_type": "display_data"
    }
   ],
   "source": [
    "x_value = df_clean[df_clean['trackable_type'] == 'Condition'].trackable_value.value_counts().iloc[0:5]\n",
    "\n",
    "plt.figure(figsize = (8, 8))\n",
    "sns.barplot(x = x_value.index, y = x_value.values, color = base_color)\n",
    "plt.title('Condition Activity')\n",
    "plt.show()"
   ]
  },
  {
   "cell_type": "markdown",
   "metadata": {},
   "source": [
    "**5. Top 20 Treatments**"
   ]
  },
  {
   "cell_type": "code",
   "execution_count": 30,
   "metadata": {
    "scrolled": true
   },
   "outputs": [
    {
     "data": {
      "text/plain": [
       "Ibuprofen        8821\n",
       "Vitamin d        5176\n",
       "Tramadol         4752\n",
       "Magnesium        4565\n",
       "Vitamin D3       4279\n",
       "Paracetamol      4249\n",
       "Gabapentin       4036\n",
       "Multivitamin     3885\n",
       "Amitriptyline    3666\n",
       "Prednisone       3483\n",
       "Omeprazole       3124\n",
       "Naproxen         3079\n",
       "Levothyroxine    3069\n",
       "Cymbalta         3004\n",
       "Probiotic        2797\n",
       "Vitamin C        2783\n",
       "Zyrtec           2728\n",
       "Tylenol          2601\n",
       "Plaquenil        2593\n",
       "Melatonin        2592\n",
       "Name: trackable_name, dtype: int64"
      ]
     },
     "execution_count": 30,
     "metadata": {},
     "output_type": "execute_result"
    }
   ],
   "source": [
    "#Looking for the most used treatments\n",
    "df_clean[df_clean.trackable_type == 'Treatment'].trackable_name.value_counts().head(20)"
   ]
  },
  {
   "cell_type": "code",
   "execution_count": 31,
   "metadata": {},
   "outputs": [
    {
     "data": {
      "image/png": "[encoded data removed]",
      "text/plain": [
       "<Figure size 576x576 with 1 Axes>"
      ]
     },
     "metadata": {
      "needs_background": "light"
     },
     "output_type": "display_data"
    }
   ],
   "source": [
    "x_value = df_clean[df_clean.trackable_type == \"Treatment\"].trackable_name.value_counts().iloc[0:20]\n",
    "\n",
    "plt.figure(figsize = (8, 8))\n",
    "sns.barplot(x = x_value.index, y = x_value.values, color = base_color)\n",
    "plt.xticks(rotation=90)\n",
    "plt.xlabel('N')\n",
    "plt.title(\"Top 20 most Common Treatments\")\n",
    "plt.show()"
   ]
  },
  {
   "cell_type": "markdown",
   "metadata": {},
   "source": [
    "Actual treatments are hidden between thousands of entries of dietary and homeopathic supplements. I don't see myself manually searching through all of this data to find every misspelled medication."
   ]
  },
  {
   "cell_type": "markdown",
   "metadata": {},
   "source": [
    "**6. Age Distribution**"
   ]
  },
  {
   "cell_type": "code",
   "execution_count": 32,
   "metadata": {
    "scrolled": false
   },
   "outputs": [
    {
     "data": {
      "image/png": "[encoded data removed]",
      "text/plain": [
       "<Figure size 576x576 with 1 Axes>"
      ]
     },
     "metadata": {
      "needs_background": "light"
     },
     "output_type": "display_data"
    }
   ],
   "source": [
    "#Plotting a histogramm for the age distribution\n",
    "bins = np.arange(0, df_clean['age'].max() + 5, 5)\n",
    "\n",
    "plt.figure(figsize = (8, 8))\n",
    "plt.hist(data = df_clean, x = 'age', bins = bins)\n",
    "plt.xlabel('Age')\n",
    "plt.ylabel('Count')\n",
    "plt.show()"
   ]
  },
  {
   "cell_type": "markdown",
   "metadata": {},
   "source": [
    "Looks like the age distribution is slightly skewed to the right with most people between 20 and 50 years. This is actually an uncommon age distribution for chronic illnesses. We can see that most people >70 are not tracking their conditions using an app. "
   ]
  },
  {
   "cell_type": "markdown",
   "metadata": {},
   "source": [
    "**7. Top 20 Conditions**"
   ]
  },
  {
   "cell_type": "code",
   "execution_count": 33,
   "metadata": {},
   "outputs": [
    {
     "data": {
      "image/png": "[encoded data removed]",
      "text/plain": [
       "<Figure size 576x576 with 1 Axes>"
      ]
     },
     "metadata": {
      "needs_background": "light"
     },
     "output_type": "display_data"
    }
   ],
   "source": [
    "#Plotting the distribution of the most common conditions, copy pasta from 3rd and 5th exploration\n",
    "x_value = df_clean[df_clean.trackable_type == \"Condition\"].trackable_name.value_counts().iloc[0:20]\n",
    "\n",
    "plt.figure(figsize = (8, 8))\n",
    "sns.barplot(x = x_value.index, y = x_value.values, color = base_color)\n",
    "plt.xticks(rotation = 90)\n",
    "plt.ylabel('N')\n",
    "plt.title('Top 20 most Common Conditions')\n",
    "plt.show()"
   ]
  },
  {
   "cell_type": "markdown",
   "metadata": {},
   "source": [
    "It is not surprising to see fibromyalgia, depression and anxiety as the top 3 conditions in regards of the age distribution above. All of these most often manifest under the age of 50."
   ]
  },
  {
   "cell_type": "markdown",
   "metadata": {},
   "source": [
    "**9. WordCloud of most eaten foods**"
   ]
  },
  {
   "cell_type": "code",
   "execution_count": 34,
   "metadata": {},
   "outputs": [
    {
     "data": {
      "image/png": "[encoded data removed]",
      "text/plain": [
       "<Figure size 864x864 with 1 Axes>"
      ]
     },
     "metadata": {
      "needs_background": "light"
     },
     "output_type": "display_data"
    }
   ],
   "source": [
    "#A keggle kernel used a WordCloud, I wanted to try creating one myself with the guidance of ...\n",
    "names = df_clean[df_clean.trackable_type == 'Food'].trackable_name.value_counts().iloc[0:100].index\n",
    "\n",
    "wc = WordCloud(max_font_size=50, width=1000, height=600, background_color = 'white').generate(' '.join(names))\n",
    "\n",
    "plt.figure(figsize=(12,12))\n",
    "plt.imshow(wc)\n",
    "plt.title('Wordcloud for Food')\n",
    "plt.axis('off')\n",
    "plt.show() "
   ]
  },
  {
   "cell_type": "markdown",
   "metadata": {},
   "source": [
    "**10. Most common Symptoms**"
   ]
  },
  {
   "cell_type": "code",
   "execution_count": 35,
   "metadata": {},
   "outputs": [
    {
     "data": {
      "image/png": "[encoded data removed]",
      "text/plain": [
       "<Figure size 576x576 with 1 Axes>"
      ]
     },
     "metadata": {
      "needs_background": "light"
     },
     "output_type": "display_data"
    }
   ],
   "source": [
    "x_value = df[df.trackable_type == \"Symptom\"].trackable_name.value_counts().iloc[0:20]\n",
    "\n",
    "plt.figure(figsize = (8, 8))\n",
    "sns.barplot(x = x_value.index, y = x_value.values, color = base_color)\n",
    "plt.xticks(rotation = 90)\n",
    "plt.ylabel('N')\n",
    "plt.title('Top 20 most Common Symptoms')\n",
    "plt.show()"
   ]
  },
  {
   "cell_type": "markdown",
   "metadata": {},
   "source": [
    "### Exploring Fibromyalgia"
   ]
  },
  {
   "cell_type": "markdown",
   "metadata": {},
   "source": [
    "Now we have a good general impression on how most chronic illness patients in this age group behave. An interesting factor about this dataset is its ability to choose one illness and track it. From now on I will focus on Fibromyalgia for further analysis and try to find some features of the disease hidden in this dataset. I choose Fibromyalgia because we have the most data for it and because it is associated with specific symptoms that we can explore."
   ]
  },
  {
   "cell_type": "code",
   "execution_count": 36,
   "metadata": {},
   "outputs": [
    {
     "data": {
      "text/html": [
       "<div>\n",
       "<style scoped>\n",
       "    .dataframe tbody tr th:only-of-type {\n",
       "        vertical-align: middle;\n",
       "    }\n",
       "\n",
       "    .dataframe tbody tr th {\n",
       "        vertical-align: top;\n",
       "    }\n",
       "\n",
       "    .dataframe thead th {\n",
       "        text-align: right;\n",
       "    }\n",
       "</style>\n",
       "<table border=\"1\" class=\"dataframe\">\n",
       "  <thead>\n",
       "    <tr style=\"text-align: right;\">\n",
       "      <th></th>\n",
       "      <th>user_id</th>\n",
       "      <th>age</th>\n",
       "      <th>sex</th>\n",
       "      <th>country</th>\n",
       "      <th>checkin_date</th>\n",
       "      <th>trackable_id</th>\n",
       "      <th>trackable_type</th>\n",
       "      <th>trackable_name</th>\n",
       "      <th>trackable_value</th>\n",
       "    </tr>\n",
       "  </thead>\n",
       "  <tbody>\n",
       "    <tr>\n",
       "      <th>290</th>\n",
       "      <td>21946</td>\n",
       "      <td>0</td>\n",
       "      <td>NaN</td>\n",
       "      <td>NaN</td>\n",
       "      <td>2015-05-25</td>\n",
       "      <td>350</td>\n",
       "      <td>Condition</td>\n",
       "      <td>Ehlers-Danlos syndrome</td>\n",
       "      <td>0</td>\n",
       "    </tr>\n",
       "    <tr>\n",
       "      <th>291</th>\n",
       "      <td>21946</td>\n",
       "      <td>0</td>\n",
       "      <td>NaN</td>\n",
       "      <td>NaN</td>\n",
       "      <td>2015-05-25</td>\n",
       "      <td>397</td>\n",
       "      <td>Condition</td>\n",
       "      <td>Fibromyalgia</td>\n",
       "      <td>0</td>\n",
       "    </tr>\n",
       "    <tr>\n",
       "      <th>292</th>\n",
       "      <td>21946</td>\n",
       "      <td>0</td>\n",
       "      <td>NaN</td>\n",
       "      <td>NaN</td>\n",
       "      <td>2015-05-25</td>\n",
       "      <td>561</td>\n",
       "      <td>Condition</td>\n",
       "      <td>Irritable bowel syndrome</td>\n",
       "      <td>0</td>\n",
       "    </tr>\n",
       "    <tr>\n",
       "      <th>293</th>\n",
       "      <td>21946</td>\n",
       "      <td>0</td>\n",
       "      <td>NaN</td>\n",
       "      <td>NaN</td>\n",
       "      <td>2015-05-25</td>\n",
       "      <td>1131</td>\n",
       "      <td>Condition</td>\n",
       "      <td>Chronic Migraines</td>\n",
       "      <td>1</td>\n",
       "    </tr>\n",
       "    <tr>\n",
       "      <th>294</th>\n",
       "      <td>21946</td>\n",
       "      <td>0</td>\n",
       "      <td>NaN</td>\n",
       "      <td>NaN</td>\n",
       "      <td>2015-05-25</td>\n",
       "      <td>1</td>\n",
       "      <td>Symptom</td>\n",
       "      <td>Abdominal pain</td>\n",
       "      <td>0</td>\n",
       "    </tr>\n",
       "  </tbody>\n",
       "</table>\n",
       "</div>"
      ],
      "text/plain": [
       "     user_id  age  sex country checkin_date trackable_id trackable_type  \\\n",
       "290    21946    0  NaN     NaN   2015-05-25          350      Condition   \n",
       "291    21946    0  NaN     NaN   2015-05-25          397      Condition   \n",
       "292    21946    0  NaN     NaN   2015-05-25          561      Condition   \n",
       "293    21946    0  NaN     NaN   2015-05-25         1131      Condition   \n",
       "294    21946    0  NaN     NaN   2015-05-25            1        Symptom   \n",
       "\n",
       "               trackable_name trackable_value  \n",
       "290    Ehlers-Danlos syndrome               0  \n",
       "291              Fibromyalgia               0  \n",
       "292  Irritable bowel syndrome               0  \n",
       "293         Chronic Migraines               1  \n",
       "294            Abdominal pain               0  "
      ]
     },
     "execution_count": 36,
     "metadata": {},
     "output_type": "execute_result"
    }
   ],
   "source": [
    "#select all user_id with Fibromyalgia and save them to an array (3)\n",
    "user_fibro = df_clean.loc[df_clean['trackable_name'] == 'Fibromyalgia', 'user_id']\n",
    "user_fibro = user_fibro.drop_duplicates().values\n",
    "\n",
    "#create a new df where user_id matches the array\n",
    "df_fibro = df_clean.loc[df_clean['user_id'].isin(user_fibro)]\n",
    "df_fibro.head()"
   ]
  },
  {
   "cell_type": "code",
   "execution_count": 37,
   "metadata": {},
   "outputs": [
    {
     "data": {
      "image/png": "[encoded data removed]",
      "text/plain": [
       "<Figure size 576x576 with 1 Axes>"
      ]
     },
     "metadata": {
      "needs_background": "light"
     },
     "output_type": "display_data"
    }
   ],
   "source": [
    "x_value = df_fibro[df_fibro.trackable_type == \"Symptom\"].trackable_name.value_counts().iloc[0:20]\n",
    "\n",
    "plt.figure(figsize = (8, 8))\n",
    "sns.barplot(x = x_value.index, y = x_value.values, color = base_color)\n",
    "plt.xticks(rotation = 90)\n",
    "plt.ylabel('N')\n",
    "plt.title('Top 20 most Common Symptoms in Fibromyalgia')\n",
    "plt.show()"
   ]
  },
  {
   "cell_type": "code",
   "execution_count": 38,
   "metadata": {},
   "outputs": [
    {
     "data": {
      "image/png": "[encoded data removed]",
      "text/plain": [
       "<Figure size 576x576 with 1 Axes>"
      ]
     },
     "metadata": {
      "needs_background": "light"
     },
     "output_type": "display_data"
    }
   ],
   "source": [
    "x_value = df_fibro[df_fibro.trackable_type == \"Treatment\"].trackable_name.value_counts().iloc[0:20]\n",
    "\n",
    "plt.figure(figsize = (8, 8))\n",
    "sns.barplot(x = x_value.index, y = x_value.values, color = base_color)\n",
    "plt.xticks(rotation=90)\n",
    "plt.xlabel('N')\n",
    "plt.title(\"Top 20 most Common Treatments\")\n",
    "plt.show()"
   ]
  },
  {
   "cell_type": "markdown",
   "metadata": {},
   "source": [
    "<a id='bi'></a>\n",
    "### Bi- and Multivariate Exploration:"
   ]
  },
  {
   "cell_type": "markdown",
   "metadata": {},
   "source": [
    "**10. Relationship of Age and Pain**"
   ]
  },
  {
   "cell_type": "code",
   "execution_count": 39,
   "metadata": {},
   "outputs": [
    {
     "name": "stdout",
     "output_type": "stream",
     "text": [
      "<class 'pandas.core.frame.DataFrame'>\n",
      "RangeIndex: 3487633 entries, 0 to 3487632\n",
      "Data columns (total 9 columns):\n",
      "user_id            int16\n",
      "age                int32\n",
      "sex                object\n",
      "country            object\n",
      "checkin_date       datetime64[ns]\n",
      "trackable_id       object\n",
      "trackable_type     object\n",
      "trackable_name     object\n",
      "trackable_value    object\n",
      "dtypes: datetime64[ns](1), int16(1), int32(1), object(6)\n",
      "memory usage: 206.2+ MB\n"
     ]
    }
   ],
   "source": [
    "df_clean.info()"
   ]
  },
  {
   "cell_type": "code",
   "execution_count": 40,
   "metadata": {},
   "outputs": [
    {
     "name": "stderr",
     "output_type": "stream",
     "text": [
      "C:\\Users\\march\\Anaconda\\lib\\site-packages\\ipykernel_launcher.py:3: SettingWithCopyWarning: \n",
      "A value is trying to be set on a copy of a slice from a DataFrame.\n",
      "Try using .loc[row_indexer,col_indexer] = value instead\n",
      "\n",
      "See the caveats in the documentation: http://pandas.pydata.org/pandas-docs/stable/indexing.html#indexing-view-versus-copy\n",
      "  This is separate from the ipykernel package so we can avoid doing imports until\n"
     ]
    },
    {
     "data": {
      "image/png": "[encoded data removed]",
      "text/plain": [
       "<Figure size 864x576 with 2 Axes>"
      ]
     },
     "metadata": {
      "needs_background": "light"
     },
     "output_type": "display_data"
    }
   ],
   "source": [
    "#Setting a filter df to exclude false values in trackable_value\n",
    "filter_set = df_clean[df_clean['trackable_type'] == 'Condition']\n",
    "filter_set['trackable_value'] = filter_set['trackable_value'].astype(int)\n",
    "\n",
    "bins_x = np.arange(0, 80 + 7, 7)\n",
    "bins_y = np.arange(0, 5+1, 1)\n",
    "\n",
    "plt.figure(figsize = (12, 8))\n",
    "plt.hist2d(data = filter_set, x = 'age', y = 'trackable_value', bins = [bins_x, bins_y], cmap = 'rocket_r')\n",
    "plt.colorbar()\n",
    "plt.yticks([0, 1, 2, 3, 4])\n",
    "plt.xlabel('Age')\n",
    "plt.ylabel('Condition Activity')\n",
    "plt.title('Condition Activity and Age')\n",
    "plt.show()"
   ]
  },
  {
   "cell_type": "code",
   "execution_count": 41,
   "metadata": {},
   "outputs": [
    {
     "name": "stderr",
     "output_type": "stream",
     "text": [
      "C:\\Users\\march\\Anaconda\\lib\\site-packages\\ipykernel_launcher.py:3: SettingWithCopyWarning: \n",
      "A value is trying to be set on a copy of a slice from a DataFrame.\n",
      "Try using .loc[row_indexer,col_indexer] = value instead\n",
      "\n",
      "See the caveats in the documentation: http://pandas.pydata.org/pandas-docs/stable/indexing.html#indexing-view-versus-copy\n",
      "  This is separate from the ipykernel package so we can avoid doing imports until\n"
     ]
    },
    {
     "data": {
      "image/png": "[encoded data removed]",
      "text/plain": [
       "<Figure size 864x576 with 2 Axes>"
      ]
     },
     "metadata": {
      "needs_background": "light"
     },
     "output_type": "display_data"
    }
   ],
   "source": [
    "#Pain Index as y\n",
    "filter_set2 = df_clean[df_clean['trackable_type'] == 'Symptom']\n",
    "filter_set2['trackable_value'] = filter_set2['trackable_value'].astype(int)\n",
    "\n",
    "bins_x = np.arange(0, 80 + 7, 7)\n",
    "bins_y = np.arange(0, 5+1, 1)\n",
    "\n",
    "plt.figure(figsize = (12, 8))\n",
    "plt.hist2d(data = filter_set2, x = 'age', y = 'trackable_value', bins = [bins_x, bins_y], cmap = 'rocket_r')\n",
    "plt.colorbar()\n",
    "plt.yticks([0, 1, 2, 3, 4])\n",
    "plt.xlabel('Age')\n",
    "plt.ylabel('Pain')\n",
    "plt.title('Symptom Pain and Age')\n",
    "plt.show()"
   ]
  },
  {
   "cell_type": "markdown",
   "metadata": {},
   "source": [
    "**11. Comparing Condition activity and Pain**"
   ]
  },
  {
   "cell_type": "code",
   "execution_count": 42,
   "metadata": {
    "scrolled": true
   },
   "outputs": [
    {
     "data": {
      "image/png": "[encoded data removed]",
      "text/plain": [
       "<Figure size 432x288 with 1 Axes>"
      ]
     },
     "metadata": {
      "needs_background": "light"
     },
     "output_type": "display_data"
    },
    {
     "data": {
      "image/png": "[encoded data removed]",
      "text/plain": [
       "<Figure size 432x288 with 1 Axes>"
      ]
     },
     "metadata": {
      "needs_background": "light"
     },
     "output_type": "display_data"
    }
   ],
   "source": [
    "x_value = df_clean[df_clean['trackable_type'] == 'Condition'].trackable_value\n",
    "hue_value = df_clean[df_clean['trackable_type'] == 'Symptom'].trackable_value\n",
    "\n",
    "\n",
    "sns.countplot(x = x_value, data = df_clean, color = base_color)\n",
    "plt.xlabel('Condition Activity')\n",
    "plt.show()\n",
    "\n",
    "plt.subplot()\n",
    "sns.countplot(x = hue_value, data = df_clean, color = base_color)\n",
    "plt.xlabel('Pain Index')\n",
    "plt.show()"
   ]
  },
  {
   "cell_type": "code",
   "execution_count": 43,
   "metadata": {},
   "outputs": [
    {
     "name": "stderr",
     "output_type": "stream",
     "text": [
      "C:\\Users\\march\\Anaconda\\lib\\site-packages\\ipykernel_launcher.py:3: SettingWithCopyWarning: \n",
      "A value is trying to be set on a copy of a slice from a DataFrame.\n",
      "Try using .loc[row_indexer,col_indexer] = value instead\n",
      "\n",
      "See the caveats in the documentation: http://pandas.pydata.org/pandas-docs/stable/indexing.html#indexing-view-versus-copy\n",
      "  This is separate from the ipykernel package so we can avoid doing imports until\n"
     ]
    },
    {
     "data": {
      "image/png": "[encoded data removed]",
      "text/plain": [
       "<Figure size 432x288 with 1 Axes>"
      ]
     },
     "metadata": {
      "needs_background": "light"
     },
     "output_type": "display_data"
    }
   ],
   "source": [
    "#Applying a filter for plotting the pain score in the symptom type\n",
    "filter_set3 = df_fibro[df_fibro['trackable_type'] == 'Symptom']\n",
    "filter_set3['trackable_value'] = filter_set3['trackable_value'].astype(int)\n",
    "#Grouping pain score by date and calculating the mean for this day(4)\n",
    "filter_set3 = filter_set3['trackable_value'].groupby(filter_set3['checkin_date']).mean()\n",
    "\n",
    "#plotting a lineplot\n",
    "filter_set3.plot.line(x = 'checkin_date', y = 'trackable_value');"
   ]
  },
  {
   "cell_type": "code",
   "execution_count": 44,
   "metadata": {},
   "outputs": [
    {
     "name": "stderr",
     "output_type": "stream",
     "text": [
      "C:\\Users\\march\\Anaconda\\lib\\site-packages\\ipykernel_launcher.py:3: SettingWithCopyWarning: \n",
      "A value is trying to be set on a copy of a slice from a DataFrame.\n",
      "Try using .loc[row_indexer,col_indexer] = value instead\n",
      "\n",
      "See the caveats in the documentation: http://pandas.pydata.org/pandas-docs/stable/indexing.html#indexing-view-versus-copy\n",
      "  This is separate from the ipykernel package so we can avoid doing imports until\n"
     ]
    },
    {
     "data": {
      "image/png": "[encoded data removed]",
      "text/plain": [
       "<Figure size 432x288 with 1 Axes>"
      ]
     },
     "metadata": {
      "needs_background": "light"
     },
     "output_type": "display_data"
    }
   ],
   "source": [
    "#Applying a filter for plotting the pain score in the symptom type\n",
    "filter_set4 = df_fibro[df_fibro['trackable_type'] == 'Condition']\n",
    "filter_set4['trackable_value'] = filter_set4['trackable_value'].astype(int)\n",
    "#Grouping pain score by date and calculating the mean for this day(4)\n",
    "filter_set4 = filter_set4['trackable_value'].groupby(filter_set4['checkin_date']).mean()\n",
    "\n",
    "#plotting a lineplot\n",
    "filter_set4.plot.line(x = 'checkin_date', y = 'trackable_value');"
   ]
  },
  {
   "cell_type": "markdown",
   "metadata": {},
   "source": [
    "It is interesting to see that the symptoms seem to peak during winter. The overall change is somewhere around .5 which probably is a relevant change. The first few entries look like they can be ignored."
   ]
  },
  {
   "cell_type": "markdown",
   "metadata": {},
   "source": [
    "<a id='sources'></a>\n",
    "# Sources"
   ]
  },
  {
   "cell_type": "markdown",
   "metadata": {},
   "source": [
    "- The Dataset: https://www.kaggle.com/flaredown/flaredown-autoimmune-symptom-tracker\n",
    "- (1) Changing alphanumerical to integer: https://stackoverflow.com/questions/32011359/convert-categorical-data-in-pandas-dataframe/32011969\n",
    "- (2) Conditional replacement of values: https://stackoverflow.com/questions/31511997/pandas-dataframe-replace-all-values-in-a-column-based-on-condition\n",
    "- (3) Creating new df from list: https://stackoverflow.com/questions/17071871/select-rows-from-a-dataframe-based-on-values-in-a-column-in-pandas\n",
    "- (4) Groupby: https://chrisalbon.com/python/data_wrangling/pandas_apply_operations_to_groups/"
   ]
  },
  {
   "cell_type": "code",
   "execution_count": null,
   "metadata": {},
   "outputs": [],
   "source": []
  }
 ],
 "metadata": {
  "kernelspec": {
   "display_name": "Python 3",
   "language": "python",
   "name": "python3"
  },
  "language_info": {
   "codemirror_mode": {
    "name": "ipython",
    "version": 3
   },
   "file_extension": ".py",
   "mimetype": "text/x-python",
   "name": "python",
   "nbconvert_exporter": "python",
   "pygments_lexer": "ipython3",
   "version": "3.7.0"
  }
 },
 "nbformat": 4,
 "nbformat_minor": 2
}
